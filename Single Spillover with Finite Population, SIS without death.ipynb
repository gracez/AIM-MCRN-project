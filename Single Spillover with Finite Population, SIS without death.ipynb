{
 "cells": [
  {
   "cell_type": "markdown",
   "metadata": {},
   "source": [
    "Single spillover (non-recurrent) with finite population, death, and SIS dynamics."
   ]
  },
  {
   "cell_type": "code",
   "execution_count": 72,
   "metadata": {},
   "outputs": [],
   "source": [
    "import numpy as np\n",
    "import matplotlib.pyplot as plt"
   ]
  },
  {
   "cell_type": "code",
   "execution_count": 73,
   "metadata": {},
   "outputs": [],
   "source": [
    "#class representing one simulation.\n",
    "\n",
    "class Sim:\n",
    "    def __init__(self, outcome, times, betas, gammas, I, S):\n",
    "        \n",
    "        #0 if extinction, 1 if outbreak, None otherwise. \n",
    "        self.outcome = outcome \n",
    "        \n",
    "        #the number of events in the simulation\n",
    "        self.length = len(times)\n",
    "        \n",
    "        #these are all arrays of the same length\n",
    "        self.times = times #all the times of new events (infections and recoveries, including spillover infections)\n",
    "        self.betas = betas #the corresponding betas. if the event was a recovery, the corresponding beta is \"None\"\n",
    "        self.gammas = gammas #the corresponding gammas. if the event was a recovery, the corresponding gamma is \"None\"\n",
    "        self.I = I #the number of infecteds, inclusive of the new event\n",
    "        self.S = S #the number of susceptibles, inclusive of the new event\n",
    "        "
   ]
  },
  {
   "cell_type": "code",
   "execution_count": 74,
   "metadata": {},
   "outputs": [],
   "source": [
    "def sim_finite(S_0, beta_0, gamma_0, mu_1=0, mu_2=0, t_thresh = 1000):\n",
    "\n",
    "    t=0\n",
    "        \n",
    "    #stuff to fill and return as part of Sim object.\n",
    "    all_times = np.array([t])\n",
    "    all_betas = np.array([beta_0])\n",
    "    all_gammas = np.array([gamma_0])\n",
    "    all_I = np.array([1])\n",
    "    all_S = np.array([S_0])\n",
    "    \n",
    "    #initialize counters\n",
    "    S = S_0; I = 1\n",
    "        \n",
    "    #initialize variables to keep track of sums of beta, gamma over all currently infected people    \n",
    "    beta_sum = beta_0; gamma_sum = gamma_0\n",
    "        \n",
    "    #initialize matrix of active cases. each case is a row of length 3.\n",
    "    # each row looks like [beta, gamma, time of infection] of that person. \n",
    "    infecteds=np.array([[beta_0, gamma_0, t]])\n",
    "    \n",
    "    while True:\n",
    "        \n",
    "        total_pop = S + I #total population\n",
    "        \n",
    "        #grab array of all betas and array of all gammas\n",
    "        betas = infecteds[:,0]; gammas = infecteds[:,1]\n",
    "        \n",
    "        #adjust betas to actual transmission rates, which depend on proportion of population that is susceptible\n",
    "        trans_rates = betas*S/total_pop\n",
    "        trans_rates_sum = beta_sum*S/total_pop #sum all trans rates\n",
    "        \n",
    "        #compute interevent time (for the whole population)\n",
    "        \n",
    "        #rate of events is sum of transmission rate and gamma over all infected people\n",
    "        overall_rate = trans_rates_sum + gamma_sum\n",
    "        \n",
    "        #draw from exponential distribution with this rate\n",
    "        dt = np.random.exponential(scale=1/overall_rate)\n",
    "        t += dt\n",
    "        \n",
    "        #return if next event is after t_thresh\n",
    "        if t > t_thresh:\n",
    "            return Sim(None, all_times, all_betas, all_gammas, all_I, all_S)\n",
    "        \n",
    "        #figure out who the event happened to\n",
    "        i = np.random.choice(I, p=(trans_rates+gammas)/overall_rate) #index of that person\n",
    "        \n",
    "        #grab their specific transmission rate and beta and gamma\n",
    "        beta = betas[i]; gamma = gammas[i]\n",
    "        \n",
    "        #compute transmission rate\n",
    "        trans_rate = beta*S/total_pop\n",
    "        \n",
    "        #figure out what they did, transmit, recover, or die\n",
    "        ev = np.random.rand() #draw from uniform distribution over [0, 1)\n",
    "        prob_trans = trans_rate / (trans_rate + gamma) #probability of transmission\n",
    "        \n",
    "        if (ev < prob_trans): #transmission\n",
    "\n",
    "            #pick beta, gamma for new case\n",
    "            #mutation is a number drawn from normal distribution with std dev mu_1 or mu_2\n",
    "            #don't allow negative beta.\n",
    "            #don't allow gamma to be negative.\n",
    "            mut1 = np.random.normal(loc=0.0, scale=mu_1)\n",
    "            new_beta = max(0, beta + mut1)\n",
    "            mut2 = np.random.normal(loc=0.0, scale=mu_2)\n",
    "            new_gamma = max(0, gamma + mut2)\n",
    "\n",
    "            #append new case to infecteds array\n",
    "            infecteds = np.append(infecteds, [[new_beta, new_gamma, t]], axis=0)\n",
    "            \n",
    "            #update running sums\n",
    "            beta_sum += new_beta; gamma_sum += new_gamma\n",
    "            \n",
    "            #update counters\n",
    "            I += 1; S -= 1\n",
    "            \n",
    "            #update return arrays\n",
    "            all_times = np.append(all_times, t)\n",
    "            all_betas = np.append(all_betas, new_beta)\n",
    "            all_gammas = np.append(all_gammas, new_gamma)\n",
    "            all_I = np.append(all_I, I)\n",
    "            all_S = np.append(all_S, S)\n",
    "    \n",
    "        else: #recovery\n",
    "            \n",
    "            #delete them from infecteds array\n",
    "            infecteds = np.delete(infecteds, i, axis=0)\n",
    "            \n",
    "            #update running sums\n",
    "            beta_sum -= beta; gamma_sum -= gamma\n",
    "            \n",
    "            #update counters\n",
    "            I -= 1; S += 1\n",
    "            \n",
    "            #update return arrays\n",
    "            all_times = np.append(all_times, t)\n",
    "            all_betas = np.append(all_betas, None)\n",
    "            all_gammas = np.append(all_gammas, None)\n",
    "            all_I = np.append(all_I, I)\n",
    "            all_S = np.append(all_S, S)\n",
    "            \n",
    "            #check for extinction\n",
    "            if I == 0:\n",
    "                return Sim(0, all_times, all_betas, all_gammas, all_I, all_S)"
   ]
  },
  {
   "cell_type": "code",
   "execution_count": 138,
   "metadata": {
    "scrolled": false
   },
   "outputs": [
    {
     "name": "stdout",
     "output_type": "stream",
     "text": [
      "0\n"
     ]
    },
    {
     "data": {
      "image/png": "[encoded data removed]",
      "text/plain": [
       "<Figure size 1440x432 with 1 Axes>"
      ]
     },
     "metadata": {
      "needs_background": "light"
     },
     "output_type": "display_data"
    },
    {
     "data": {
      "image/png": "[encoded data removed]",
      "text/plain": [
       "<Figure size 1440x432 with 1 Axes>"
      ]
     },
     "metadata": {
      "needs_background": "light"
     },
     "output_type": "display_data"
    },
    {
     "data": {
      "image/png": "[encoded data removed]",
      "text/plain": [
       "<Figure size 1440x432 with 1 Axes>"
      ]
     },
     "metadata": {
      "needs_background": "light"
     },
     "output_type": "display_data"
    }
   ],
   "source": [
    "#parameters\n",
    "S_0 = 1000\n",
    "beta_0 = 0.1\n",
    "gamma_0 = 0.1\n",
    "mu_1 = 0.001\n",
    "mu_2 = 0.001\n",
    "t_thresh = 1000\n",
    "\n",
    "s = None\n",
    "\n",
    "while True:\n",
    "    s = sim_finite(S_0, beta_0, gamma_0, mu_1, mu_2, t_thresh)\n",
    "    #if s.times[-1] > 50: break #get a simulation where the disease spreads for at least this many days\n",
    "    break\n",
    "        \n",
    "times = s.times; betas = s.betas; gammas = s.gammas; I = s.I; S = s.S\n",
    "\n",
    "print(s.outcome)\n",
    "\n",
    "#plot betas over time\n",
    "plt.figure(figsize=(20,6))\n",
    "plt.plot(times, betas, \".r\", label='beta')\n",
    "plt.title('mu_1 = {}, mu_2 = {}'.format(mu_1, mu_2))\n",
    "plt.xlabel(\"t\"); plt.ylabel(\"parameters\")\n",
    "plt.autoscale(enable=True, axis='x', tight=True)\n",
    "plt.legend(); plt.show()\n",
    "\n",
    "#plot gammas over time\n",
    "plt.figure(figsize=(20,6))\n",
    "plt.plot(times, gammas, \".g\", label='gamma')\n",
    "plt.xlabel(\"t\"); plt.ylabel(\"parameters\")\n",
    "plt.autoscale(enable=True, axis='x', tight=True)\n",
    "plt.legend(); plt.show()\n",
    "\n",
    "#plot I and S over time\n",
    "plt.figure(figsize=(20,6))\n",
    "plt.plot(times, I, 'orange', label='infected')\n",
    "plt.plot(times, S, 'green', label='susceptible')\n",
    "plt.xlabel(\"t\"); plt.ylabel(\"I\")\n",
    "plt.autoscale(enable=True, axis='x', tight=True)\n",
    "plt.legend(); plt.show()"
   ]
  },
  {
   "cell_type": "code",
   "execution_count": null,
   "metadata": {},
   "outputs": [],
   "source": []
  },
  {
   "cell_type": "code",
   "execution_count": null,
   "metadata": {},
   "outputs": [],
   "source": []
  }
 ],
 "metadata": {
  "kernelspec": {
   "display_name": "Python 3",
   "language": "python",
   "name": "python3"
  },
  "language_info": {
   "codemirror_mode": {
    "name": "ipython",
    "version": 3
   },
   "file_extension": ".py",
   "mimetype": "text/x-python",
   "name": "python",
   "nbconvert_exporter": "python",
   "pygments_lexer": "ipython3",
   "version": "3.7.6"
  }
 },
 "nbformat": 4,
 "nbformat_minor": 4
}
