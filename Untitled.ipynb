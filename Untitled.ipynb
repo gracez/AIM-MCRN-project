{
 "cells": [
  {
   "cell_type": "code",
   "execution_count": 2,
   "metadata": {},
   "outputs": [],
   "source": [
    "import numpy as np\n",
    "import matplotlib.pyplot as plt"
   ]
  },
  {
   "cell_type": "code",
   "execution_count": 3,
   "metadata": {},
   "outputs": [],
   "source": [
    "#class representing one simulation.\n",
    "\n",
    "class Sim:\n",
    "    def __init__(self, outcome, times, betas, gammas, I, S):\n",
    "        \n",
    "        #0 if extinction, 1 if outbreak, None otherwise. \n",
    "        self.outcome = outcome \n",
    "        \n",
    "        #the number of events in the simulation\n",
    "        self.length = len(times)\n",
    "        \n",
    "        #these are all arrays of the same length\n",
    "        self.times = times #all the times of new events (infections and recoveries, including spillover infections)\n",
    "        self.betas = betas #the corresponding betas. if the event was a recovery, the corresponding beta is \"None\"\n",
    "        self.gammas = gammas #the corresponding gammas. if the event was a recovery, the corresponding gamma is \"None\"\n",
    "        self.I = I #the number of infecteds, inclusive of the new event\n",
    "        self.S = S #the number of susceptibles, inclusive of the new event\n",
    "        "
   ]
  },
  {
   "cell_type": "code",
   "execution_count": 4,
   "metadata": {},
   "outputs": [],
   "source": [
    "import pickle\n",
    "file = open('s_competing_strains_10000.txt', 'rb')\n",
    "s = pickle.load(file)\n",
    "file.close()"
   ]
  },
  {
   "cell_type": "code",
   "execution_count": 6,
   "metadata": {},
   "outputs": [
    {
     "name": "stdout",
     "output_type": "stream",
     "text": [
      "9998.853142789949\n"
     ]
    }
   ],
   "source": []
  }
 ],
 "metadata": {
  "kernelspec": {
   "display_name": "Python 3",
   "language": "python",
   "name": "python3"
  },
  "language_info": {
   "codemirror_mode": {
    "name": "ipython",
    "version": 3
   },
   "file_extension": ".py",
   "mimetype": "text/x-python",
   "name": "python",
   "nbconvert_exporter": "python",
   "pygments_lexer": "ipython3",
   "version": "3.7.6"
  }
 },
 "nbformat": 4,
 "nbformat_minor": 4
}
