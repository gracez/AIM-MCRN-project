{
 "cells": [
  {
<<<<<<< Updated upstream
   "cell_type": "code",
   "execution_count": 10,
   "metadata": {},
   "outputs": [],
   "source": [
    "import numpy as np\n",
    "import matplotlib.pyplot as plt"
=======
   "cell_type": "markdown",
   "metadata": {},
   "source": [
    "Different implementations of sim\n",
    "(simulation of infection WITHOUT recurrent spillover, allows both gamma and beta to mutate at each transmission)\n",
    "\n",
    "input beta_0 is transmission rate of the initial case.\n",
    "input gamma_0 is recovery rate of the initial case. \n",
    "\n",
    "optional input mu_1 represents mutation rate for beta. If unspecified, defaults to 0.\n",
    "optional input mu_2 represents mutation rate for gamma. If unspecified, defaults to 0.\n",
    "\n",
    "for sim_gen, sim_approx_time, and sim_time:\n",
    "returns 0, t_ext if extinction, where t_ext is time of extinction. \n",
    "returns 1 if outbreak\n",
    "\n",
    "for sim_class: \n",
    "returns an element of the class Sim"
>>>>>>> Stashed changes
   ]
  },
  {
   "cell_type": "code",
<<<<<<< Updated upstream
   "execution_count": 11,
   "metadata": {},
   "outputs": [],
   "source": [
    "# #class representing an infected person\n",
    "# class Infected:\n",
    "#     def __init__(self, beta, gamma, t):\n",
    "#         self.beta = beta\n",
    "#         self.gamma = gamma\n",
    "#         self.t = t #time infected"
=======
   "execution_count": 46,
   "metadata": {},
   "outputs": [],
   "source": [
    "import numpy as np\n",
    "import matplotlib.pyplot as plt"
>>>>>>> Stashed changes
   ]
  },
  {
   "cell_type": "code",
<<<<<<< Updated upstream
   "execution_count": 70,
=======
   "execution_count": 141,
>>>>>>> Stashed changes
   "metadata": {},
   "outputs": [],
   "source": [
    "###################################################\n",
<<<<<<< Updated upstream
    "# original implementation. \n",
    "# done purely by \"generation order\" instead of \"time order\".        \n",
=======
    "# implementation purely by \"generation order\" instead of \"time order\". \n",
    "# (much faster to run, and still gives the same result in the limit as outbreak_thresh -> infinity)\n",
>>>>>>> Stashed changes
    "###################################################\n",
    "\n",
    "def sim_gen(beta_0, gamma_0, mu_1=0, mu_2=0):\n",
    "    \n",
<<<<<<< Updated upstream
    "    outbreak_thresh = 500 #call it an outbreak if this many people are infected\n",
=======
    "    outbreak_thresh = 100 #call it an outbreak if this many people are infected\n",
>>>>>>> Stashed changes
    "    \n",
    "    #store active cases as an array of triples\n",
    "    #each triple looks like [beta, gamma, time of infection] and represents one infected person\n",
    "    infecteds=[[beta_0, gamma_0, 0]]\n",
    "    \n",
    "    N_infected = len(infecteds) #keep track of number of infected people\n",
    "    \n",
    "    t_ext = None #time of extinction, will fill this value and return it if the infection goes extinct\n",
    "    \n",
    "    while True: \n",
    "        \n",
    "        #print(\"\\n\", \"infecteds now = \", infecteds)\n",
    "        \n",
    "        #keeps track of indices of recovered people\n",
    "        #will delete them from array of infecteds at the end of each while loop iteration\n",
    "        recovereds = []\n",
    "        \n",
    "        for i, person in enumerate(infecteds): #go through and branch each person in array of infecteds\n",
    "\n",
    "            #print(\"\\n\", \"branching person\", i)\n",
    "            \n",
    "            [beta, gamma, t] = person\n",
    "            \n",
    "            while True:\n",
    "                                \n",
    "                #interevent time\n",
    "                #note this is interevent time for ONE person, NOT for entire population\n",
    "                dt = np.random.exponential(scale=1/(beta + gamma))\n",
    "                new_t = t + dt #time of new event\n",
    "                \n",
    "                #pick which new event happens, transmission or recovery         \n",
    "                ev = np.random.rand() #draw number from uniform distribution over [0, 1)\n",
    "                prob_trans = beta / (beta+gamma)\n",
    "\n",
    "                if (ev < prob_trans): #transmission\n",
    "                    \n",
    "                    #print(\"person\", i, \" is transmitting\")\n",
    "                    \n",
    "                    #pick beta and gamma for new case\n",
    "                    #mutation is a number drawn from normal distribution with std dev mu_1 or mu_2\n",
    "                    #don't allow negative beta.\n",
    "                    #don't allow gamma to be less than a small value, the natural death rate.\n",
    "                    mut1 = np.random.normal(loc=0.0, scale=mu_1)\n",
    "                    new_beta = max(0, beta + mut1)\n",
    "                    mut2 = np.random.normal(loc=0.0, scale=mu_2)              \n",
    "                    nat_death = 0.00002366575 #taken from CDC: https://www.cdc.gov/nchs/fastats/deaths.htm & scaled to be daily rate instead of yearly\n",
    "                    new_gamma = max(nat_death, gamma + mut2)\n",
    "                    \n",
    "                    #append new person to array of infecteds\n",
    "                    infecteds = np.append(infecteds, [[new_beta, new_gamma, new_t]], axis=0)\n",
    "                    N_infected += 1\n",
<<<<<<< Updated upstream
=======
    "                    \n",
    "                    if N_infected >= outbreak_thresh:\n",
    "                        #print(\"\\n\", \"outbreak!\")\n",
    "                        return 1\n",
>>>>>>> Stashed changes
    "\n",
    "                    #print(\"new infection: \", [new_beta, new_gamma, new_t])\n",
    "\n",
    "                else: #recovery\n",
    "                    \n",
    "                    #print(\"person\", i, \" recovers\") \n",
    "                    \n",
    "                    N_infected -= 1\n",
<<<<<<< Updated upstream
    "                    \n",
    "                    if N_infected == 0:\n",
    "                        t_ext = new_t #time of extinction\n",
=======
    " \n",
    "                    if N_infected == 0:\n",
    "                        #print(\"\\n\", \"extinction\")\n",
    "                        return 0, new_t\n",
>>>>>>> Stashed changes
    "                    \n",
    "                    #mark index of this recovered person, in order to delete them later\n",
    "                    #(we don't delete yet, because that will mess up the indexing of the for loop)\n",
    "                    recovereds.append(i)\n",
    "                    break #skip to next person\n",
    "\n",
    "        #after each time we complete a round of branching everybody:\n",
<<<<<<< Updated upstream
    "        #1. update the array of infecteds by deleting recoveries\n",
    "        infecteds = np.delete(infecteds, recovereds, axis=0)\n",
    "        #2. check if we have extinction/outbreak yet\n",
    "        if N_infected == 0:\n",
    "            #print(\"\\n\", \"extinction\")\n",
    "            return [0, t_ext]\n",
    "        elif N_infected >= outbreak_thresh:\n",
    "            #print(\"\\n\", \"outbreak!\")\n",
    "            return [1]"
=======
    "        #update the array of infecteds by deleting recoveries\n",
    "        infecteds = np.delete(infecteds, recovereds, axis=0)"
>>>>>>> Stashed changes
   ]
  },
  {
   "cell_type": "code",
<<<<<<< Updated upstream
   "execution_count": 71,
=======
   "execution_count": 48,
>>>>>>> Stashed changes
   "metadata": {},
   "outputs": [],
   "source": [
    "###############################################################\n",
<<<<<<< Updated upstream
    "# second implementation. \n",
    "# done by \"approximate time order\".\n",
    "# i.e. fully branch one person until recovery, sort list of infecteds by time infected, and repeat           #\n",
=======
    "# implementation by \"approximate time order\".\n",
    "# i.e. fully branch one person until recovery, sort list of infecteds by time infected, and repeat.\n",
>>>>>>> Stashed changes
    "###############################################################\n",
    "\n",
    "def sim_approx_time(beta_0, gamma_0, mu_1=0, mu_2=0):\n",
    "    \n",
<<<<<<< Updated upstream
    "    outbreak_thresh = 500 #call it an outbreak if this many people are infected\n",
=======
    "    outbreak_thresh = 100 #call it an outbreak if this many people are infected\n",
>>>>>>> Stashed changes
    "    \n",
    "    #store active cases as an array of triples\n",
    "    #each triple looks like [beta, gamma, time of infection] and represents one infected person\n",
    "    infecteds=np.array([[beta_0, gamma_0, 0]])\n",
    "    N_infected = 1 #keep track of number of infected people. \n",
    "    \n",
    "    t_ext = None #time of extinction, will fill this value and return it if the infection goes extinct\n",
    "    \n",
    "    while True: \n",
    "        \n",
    "        #print(\"\\n\", \"infecteds now = \", infecteds)\n",
    "        \n",
    "        person = infecteds[0] #branch person 0. note infecteds is maintained in order of increasing time of infection. \n",
    "        [beta, gamma, t] = person\n",
    "        #print(\"\\n\", \"branching person who was infected at time\", t)\n",
    "\n",
    "        while True: #branch person 0 until they recover.\n",
    "\n",
    "            #interevent time\n",
    "            #note this is interevent time for ONE person, NOT for entire population\n",
    "            dt = np.random.exponential(scale=1/(beta + gamma))\n",
    "            new_t = t + dt\n",
    "\n",
    "            #pick which event happens, transmission or recovery         \n",
    "            ev = np.random.rand() #draw number from uniform distribution over [0, 1)\n",
    "            prob_trans = beta / (beta+gamma) #probability of transmission\n",
    "            \n",
    "            if (ev < prob_trans): #transmission\n",
    "\n",
    "                #print(\"transmitting\")\n",
    "\n",
    "                #pick beta and gamma for new case\n",
    "                #mutation is a number drawn from normal distribution with std dev mu_1 or mu_2\n",
    "                #don't allow negative beta.\n",
    "                #don't allow gamma to be less than a small value, the natural death rate.\n",
    "                mut1 = np.random.normal(loc=0.0, scale=mu_1)\n",
    "                new_beta = max(0, beta + mut1)\n",
    "                mut2 = np.random.normal(loc=0.0, scale=mu_2)              \n",
    "                nat_death = 0.00002366575 #taken from CDC: https://www.cdc.gov/nchs/fastats/deaths.htm & scaled to be daily rate instead of yearly\n",
    "                new_gamma = max(nat_death, gamma + mut2)\n",
    "\n",
    "                N_infected += 1\n",
    "                \n",
    "                #print(N_infected)\n",
    "\n",
    "                #check if we have an outbreak\n",
    "                if N_infected >= outbreak_thresh:\n",
    "                    \n",
    "                    #print(\"\\n\", \"outbreak!\")\n",
    "                    \n",
<<<<<<< Updated upstream
    "                    return [1]\n",
=======
    "                    return 1\n",
>>>>>>> Stashed changes
    "\n",
    "                #append new person to array of infecteds\n",
    "                infecteds = np.append(infecteds, [[new_beta, new_gamma, new_t]], axis=0)\n",
    "                \n",
    "                #print(\"new infection: \", [new_beta, new_gamma, new_t])\n",
    "\n",
    "            else: #recovery\n",
    "\n",
    "                #print(\"recovering\") \n",
    "\n",
    "                N_infected -= 1\n",
    "                \n",
    "                #print(N_infected)\n",
    "\n",
    "                #check if we have extinction       \n",
    "                if N_infected == 0:\n",
    "                    t_ext = new_t #time of extinction\n",
    "                    \n",
    "                    #print(\"\\n\", \"extinction\")\n",
    "                    \n",
<<<<<<< Updated upstream
    "                    return [0, t_ext]\n",
=======
    "                    return 0, t_ext\n",
>>>>>>> Stashed changes
    "\n",
    "                #delete the person \n",
    "                infecteds = np.delete(infecteds, 0, axis=0)\n",
    "                \n",
    "                break #skip to next person\n",
    "\n",
    "            #sort the array of infecteds in increasing order of time infected. \n",
<<<<<<< Updated upstream
=======
    "            #TO DO: change this to merge instead of sort\n",
>>>>>>> Stashed changes
    "            sorted_indices = np.argsort(infecteds[:,2])\n",
    "            infecteds = infecteds[sorted_indices]        "
   ]
  },
  {
   "cell_type": "code",
<<<<<<< Updated upstream
   "execution_count": 72,
=======
   "execution_count": 119,
>>>>>>> Stashed changes
   "metadata": {},
   "outputs": [],
   "source": [
    "###################################################\n",
<<<<<<< Updated upstream
    "# third implementation.\n",
    "# done by exact time order.\n",
=======
    "# implementation by exact \"time order\".\n",
>>>>>>> Stashed changes
    "###################################################\n",
    "\n",
    "def sim_time(beta_0, gamma_0, mu_1=0, mu_2=0):\n",
    "    \n",
<<<<<<< Updated upstream
    "    outbreak_thresh = 500 #call it an outbreak if this many people are infected\n",
=======
    "    outbreak_thresh = 100 #call it an outbreak if this many people are infected\n",
>>>>>>> Stashed changes
    "    \n",
    "    t = 0 #initialize variable to keep track of time\n",
    "        \n",
    "    #initialize matrix of active cases. each case is a row of length 3.\n",
    "    # each row looks like [beta, gamma, time of infection] of that person. \n",
    "    infecteds=np.array([[beta_0, gamma_0, t]])\n",
    "    \n",
    "    #initialize variables to keep track of sums of beta and gamma over all currently infected people    \n",
    "    beta_sum = beta_0\n",
    "    gamma_sum = gamma_0\n",
    "    \n",
    "    #initial variable to count total number of infected\n",
    "    N = 1\n",
    "    \n",
    "    while True:\n",
    "        \n",
    "        #grab array of all betas and array of all gammas\n",
    "        betas = infecteds[:,0]\n",
    "        gammas = infecteds[:,1]\n",
    "        \n",
    "        #compute interevent time\n",
    "        \n",
    "        #rate is sum of beta and gamma over all infected people\n",
    "        overall_rate = beta_sum + gamma_sum\n",
    "        #draw from exponential distribution with this rate\n",
    "        dt = np.random.exponential(scale=1/overall_rate)\n",
    "        t += dt\n",
    "        \n",
    "        #figure out who the event happened to\n",
    "        i = np.random.choice(N, p=(betas+gammas)/overall_rate) #index of that person\n",
    "        \n",
    "        #grab their specific beta and gamma\n",
    "        beta = betas[i]\n",
    "        gamma = gammas[i]\n",
    "        \n",
    "        #figure out what they did, transmit or recover. \n",
    "        ev = np.random.rand() #draw from uniform distribution over [0, 1)\n",
    "        prob_trans = beta / (beta + gamma) #probability of transmission\n",
    "\n",
    "        if (ev < prob_trans): #transmission\n",
    "\n",
    "            #pick beta and gamma for new case\n",
    "            #mutation is a number drawn from normal distribution with std dev mu_1 or mu_2\n",
    "            #don't allow negative beta.\n",
    "            #don't allow gamma to be less than a small value, the natural death rate.\n",
    "            mut1 = np.random.normal(loc=0.0, scale=mu_1)\n",
    "            new_beta = max(0, beta + mut1)\n",
    "            mut2 = np.random.normal(loc=0.0, scale=mu_2)              \n",
    "            nat_death = 0.00002366575 #taken from CDC: https://www.cdc.gov/nchs/fastats/deaths.htm & scaled to be daily rate instead of yearly\n",
    "            new_gamma = max(nat_death, gamma + mut2)\n",
    "\n",
    "            #append new case to infecteds array\n",
    "            infecteds = np.append(infecteds, [[new_beta, new_gamma, t]], axis=0)\n",
    "            \n",
    "            #update the sum of beta and gamma\n",
    "            beta_sum += new_beta\n",
    "            gamma_sum += new_gamma\n",
    "            \n",
    "            #update N\n",
    "            N += 1\n",
    "\n",
    "            #check if we have an outbreak\n",
    "            if N >= outbreak_thresh:\n",
    "\n",
    "                #print(\"\\n\", \"outbreak!\")\n",
    "\n",
<<<<<<< Updated upstream
    "                return [1]\n",
=======
    "                return 1\n",
>>>>>>> Stashed changes
    "\n",
    "        else: #recovery\n",
    "            \n",
    "            #delete them from infecteds array\n",
    "            infecteds = np.delete(infecteds, i, axis=0)\n",
    "            \n",
    "            #update the sum of beta and gamma\n",
    "            beta_sum -= betas[i]\n",
    "            gamma_sum -= gammas[i]\n",
    "            \n",
    "            #update N\n",
    "            N -= 1\n",
    "\n",
    "            #check if we have extinction       \n",
    "            if N == 0:\n",
    "\n",
    "                #print(\"\\n\", \"extinction\")\n",
    "\n",
<<<<<<< Updated upstream
    "                return [0, t]"
=======
    "                return 0, t"
   ]
  },
  {
   "cell_type": "code",
   "execution_count": 116,
   "metadata": {},
   "outputs": [],
   "source": [
    "#class representing one simulation\n",
    "class Sim:\n",
    "    def __init__(self, boolean, times, betas, gammas, N_infecteds):\n",
    "        \n",
    "        self.outcome = boolean #0 if extinction, 1 if outbreak\n",
    "        \n",
    "        #the remaining are all arrays of the same length\n",
    "        self.t = times #all the times of new events (infections and recoveries)\n",
    "        self.betas = betas #the corresponding betas of new infections. times of recoveries have corresponding beta value None\n",
    "        self.gammas = gammas #their corresponding gammas of new infections. times of recoveries have corresponding gamma value None\n",
    "        self.I = N_infecteds #the number of infected people at each time (counting the new event)\n",
    "\n"
>>>>>>> Stashed changes
   ]
  },
  {
   "cell_type": "markdown",
   "metadata": {},
   "source": [
    "The remaining cells are for testing execution time"
   ]
  },
  {
   "cell_type": "code",
<<<<<<< Updated upstream
   "execution_count": 73,
=======
   "execution_count": 52,
   "metadata": {},
   "outputs": [],
   "source": [
    "#####################################################\n",
    "# runs many simulations WITHOUT recurrent spillover #\n",
    "#####################################################\n",
    "\n",
    "def sim_percentage_gen(beta_0, gamma_0, mu_1, mu_2):   \n",
    "    N_outbreaks = 0  \n",
    "    for i in range(N_sims):\n",
    "        if sim_gen(beta_0, gamma_0, mu_1, mu_2) == 1: N_outbreaks += 1\n",
    "    return N_outbreaks/N_sims\n",
    "\n",
    "def sim_percentage_approx_time(beta_0, gamma_0, mu_1, mu_2):   \n",
    "    N_outbreaks = 0  \n",
    "    for i in range(N_sims):\n",
    "        if sim_approx_time(beta_0, gamma_0, mu_1, mu_2) == 1: N_outbreaks += 1\n",
    "    return N_outbreaks/N_sims\n",
    "\n",
    "def sim_percentage_time(beta_0, gamma_0, mu_1, mu_2):   \n",
    "    N_outbreaks = 0  \n",
    "    for i in range(N_sims):\n",
    "        if sim_time(beta_0, gamma_0, mu_1, mu_2) == 1: N_outbreaks += 1\n",
    "    return N_outbreaks/N_sims\n",
    "\n",
    "def sim_percentage_class(beta_0, gamma_0, mu_1, mu_2):   \n",
    "    N_outbreaks = 0 \n",
    "    for i in range(N_sims):\n",
    "        if sim_plots(beta_0, gamma_0, mu_1, mu_2).outcome == 1: N_outbreaks += 1\n",
    "    return N_outbreaks/N_sims"
   ]
  },
  {
   "cell_type": "code",
   "execution_count": 53,
>>>>>>> Stashed changes
   "metadata": {},
   "outputs": [],
   "source": [
    "#parameters for time tests\n",
    "beta_0 = 0.09\n",
    "gamma_0 = 0.1\n",
    "mu_1 = 0.01\n",
<<<<<<< Updated upstream
    "mu_2 = 0.01"
=======
    "mu_2 = 0.01\n",
    "\n",
    "N_sims = 10000"
>>>>>>> Stashed changes
   ]
  },
  {
   "cell_type": "code",
<<<<<<< Updated upstream
   "execution_count": 74,
=======
   "execution_count": 142,
>>>>>>> Stashed changes
   "metadata": {},
   "outputs": [
    {
     "name": "stdout",
     "output_type": "stream",
     "text": [
<<<<<<< Updated upstream
      "CPU times: user 919 µs, sys: 187 µs, total: 1.11 ms\n",
      "Wall time: 951 µs\n"
=======
      "CPU times: user 4.38 s, sys: 76.9 ms, total: 4.46 s\n",
      "Wall time: 4.41 s\n"
>>>>>>> Stashed changes
     ]
    },
    {
     "data": {
      "text/plain": [
<<<<<<< Updated upstream
       "[0, 66.2441020649024]"
      ]
     },
     "execution_count": 74,
=======
       "0.0612"
      ]
     },
     "execution_count": 142,
>>>>>>> Stashed changes
     "metadata": {},
     "output_type": "execute_result"
    }
   ],
   "source": [
    "%%time\n",
<<<<<<< Updated upstream
    "sim_gen(beta_0, gamma_0, mu_1, mu_2)"
=======
    "sim_percentage_gen(beta_0, gamma_0, mu_1, mu_2)"
>>>>>>> Stashed changes
   ]
  },
  {
   "cell_type": "code",
<<<<<<< Updated upstream
   "execution_count": 75,
=======
   "execution_count": 132,
>>>>>>> Stashed changes
   "metadata": {},
   "outputs": [
    {
     "name": "stdout",
     "output_type": "stream",
     "text": [
<<<<<<< Updated upstream
      "CPU times: user 308 µs, sys: 93 µs, total: 401 µs\n",
      "Wall time: 338 µs\n"
=======
      "CPU times: user 6.53 s, sys: 32.9 ms, total: 6.56 s\n",
      "Wall time: 6.64 s\n"
>>>>>>> Stashed changes
     ]
    },
    {
     "data": {
      "text/plain": [
<<<<<<< Updated upstream
       "[0, 25.876468889792797]"
      ]
     },
     "execution_count": 75,
=======
       "0.0629"
      ]
     },
     "execution_count": 132,
>>>>>>> Stashed changes
     "metadata": {},
     "output_type": "execute_result"
    }
   ],
   "source": [
    "%%time\n",
<<<<<<< Updated upstream
    "sim_approx_time(beta_0, gamma_0, mu_1, mu_2)"
=======
    "sim_percentage_approx_time(beta_0, gamma_0, mu_1, mu_2)"
>>>>>>> Stashed changes
   ]
  },
  {
   "cell_type": "code",
<<<<<<< Updated upstream
   "execution_count": 76,
=======
   "execution_count": 117,
>>>>>>> Stashed changes
   "metadata": {},
   "outputs": [
    {
     "name": "stdout",
     "output_type": "stream",
     "text": [
<<<<<<< Updated upstream
      "CPU times: user 267 µs, sys: 42 µs, total: 309 µs\n",
      "Wall time: 282 µs\n"
=======
      "CPU times: user 22.8 s, sys: 166 ms, total: 23 s\n",
      "Wall time: 23.7 s\n"
>>>>>>> Stashed changes
     ]
    },
    {
     "data": {
      "text/plain": [
<<<<<<< Updated upstream
       "[0, 2.2500919817342324]"
      ]
     },
     "execution_count": 76,
=======
       "0.0648"
      ]
     },
     "execution_count": 117,
>>>>>>> Stashed changes
     "metadata": {},
     "output_type": "execute_result"
    }
   ],
   "source": [
    "%%time\n",
<<<<<<< Updated upstream
    "sim_time(beta_0, gamma_0, mu_1, mu_2)"
=======
    "sim_percentage_time(beta_0, gamma_0, mu_1, mu_2)"
>>>>>>> Stashed changes
   ]
  },
  {
   "cell_type": "code",
<<<<<<< Updated upstream
   "execution_count": 33,
   "metadata": {},
   "outputs": [],
   "source": [
    "#####################################################\n",
    "# runs many simulations WITHOUT recurrent spillover #\n",
    "#####################################################\n",
    "\n",
    "def sim_percentage_gen(beta_0, gamma_0, mu_1=0, mu_2=0, N_sims=1000):   \n",
    "    N_outbreaks = 0  \n",
    "    for i in range(N_sims):\n",
    "        if sim_gen(beta_0, gamma_0, mu_1, mu_2) == [1]: N_outbreaks += 1\n",
    "    return N_outbreaks/N_sims\n",
    "\n",
    "def sim_percentage_approx_time(beta_0, gamma_0, mu_1=0, mu_2=0, N_sims=1000):   \n",
    "    N_outbreaks = 0  \n",
    "    for i in range(N_sims):\n",
    "        if sim_approx_time(beta_0, gamma_0, mu_1, mu_2) == [1]: N_outbreaks += 1\n",
    "    return N_outbreaks/N_sims\n",
    "\n",
    "def sim_percentage_time(beta_0, gamma_0, mu_1=0, mu_2=0, N_sims=1000):   \n",
    "    N_outbreaks = 0  \n",
    "    for i in range(N_sims):\n",
    "        if sim_time(beta_0, gamma_0, mu_1, mu_2) == [1]: N_outbreaks += 1\n",
    "    return N_outbreaks/N_sims"
=======
   "execution_count": 57,
   "metadata": {},
   "outputs": [
    {
     "name": "stdout",
     "output_type": "stream",
     "text": [
      "CPU times: user 26.3 s, sys: 239 ms, total: 26.6 s\n",
      "Wall time: 28.5 s\n"
     ]
    },
    {
     "data": {
      "text/plain": [
       "0.0553"
      ]
     },
     "execution_count": 57,
     "metadata": {},
     "output_type": "execute_result"
    }
   ],
   "source": [
    "%%time\n",
    "sim_percentage_class(beta_0, gamma_0, mu_1, mu_2)"
   ]
  },
  {
   "cell_type": "code",
   "execution_count": null,
   "metadata": {},
   "outputs": [],
   "source": [
    "test1 = np.array([0, 2, 4, 8, 9])\n",
    "test2 = np.array([1, 3, 4, 7])\n",
    "arrays = [test1, test2]\n",
    "\n",
    "master = np.array([])\n",
    "current_indices = np.zeros(len(arrays))\n",
    "\n",
    "while True:\n",
    "    index_of_min = None\n",
    "    for index in current_indices:\n",
    "        if array\n",
    "    \n",
    "    temp = \n",
    "    if "
   ]
  },
  {
   "cell_type": "code",
   "execution_count": 60,
   "metadata": {},
   "outputs": [
    {
     "data": {
      "text/plain": [
       "5"
      ]
     },
     "execution_count": 60,
     "metadata": {},
     "output_type": "execute_result"
    }
   ],
   "source": [
    "# a whole bunch of inefficient, wrong stuff I wrote before realizing it was inefficient and wrong.\n",
    "# keeping it in case some part of it becomes useful later\n",
    "\n",
    "\n",
    "#############################################################\n",
    "# a version of sim_class which continues running up until a specified threshold time\n",
    "# the simulation does not cut off at an outbreak (but it does end at an extinction)\n",
    "#############################################################\n",
    "#\n",
    "# input t_thresh is threshold time\n",
    "#\n",
    "#############################################################\n",
    "\n",
    "def sim_class_thresh(beta_0, gamma_0, mu_1=0, mu_2=0, t=0, t_thresh=1000):\n",
    "    \n",
    "    #stuff to fill and return as part of Sim object.\n",
    "    all_times = np.array([t])\n",
    "    all_betas = np.array([beta_0])\n",
    "    all_gammas = np.array([gamma_0])\n",
    "    all_N = np.array([1])\n",
    "    \n",
    "    N = 1 #initialize variable to keep track of total number of infected\n",
    "        \n",
    "    #initialize variables to keep track of sums of beta and gamma over all currently infected people    \n",
    "    beta_sum = beta_0; gamma_sum = gamma_0\n",
    "        \n",
    "    #initialize matrix of active cases. each case is a row of length 3.\n",
    "    # each row looks like [beta, gamma, time of infection] of that person. \n",
    "    infecteds=np.array([[beta_0, gamma_0, t]])\n",
    "    \n",
    "    while True:\n",
    "        \n",
    "        #grab array of all betas and array of all gammas\n",
    "        betas = infecteds[:,0]; gammas = infecteds[:,1]\n",
    "        \n",
    "        #compute interevent time (for the whole population)\n",
    "        \n",
    "        #rate of events is sum of beta and gamma over all infected people\n",
    "        overall_rate = beta_sum + gamma_sum\n",
    "        #draw from exponential distribution with this rate\n",
    "        dt = np.random.exponential(scale=overall_rate)\n",
    "        t += dt #the time of next event\n",
    "        \n",
    "        if t > t_thresh:\n",
    "            return Sim(None, all_times, all_betas, all_gammas, all_N)\n",
    "        \n",
    "        #figure out who the event happened to\n",
    "        i = np.random.choice(N, p=(betas+gammas)/overall_rate) #index of that person\n",
    "        \n",
    "        #grab their specific beta and gamma\n",
    "        beta = betas[i]; gamma = gammas[i]\n",
    "        \n",
    "        #figure out what they did, transmit or recover. \n",
    "        ev = np.random.rand() #draw from uniform distribution over [0, 1)\n",
    "        prob_trans = beta / (beta + gamma) #probability of transmission\n",
    "\n",
    "        if (ev < prob_trans): #transmission\n",
    "\n",
    "            #pick beta and gamma for new case\n",
    "            #mutation is a number drawn from normal distribution with std dev mu_1 or mu_2\n",
    "            #don't allow negative beta.\n",
    "            #don't allow gamma to be less than a small value, the natural death rate.\n",
    "            mut1 = np.random.normal(loc=0.0, scale=mu_1)\n",
    "            new_beta = max(0, beta + mut1)\n",
    "            mut2 = np.random.normal(loc=0.0, scale=mu_2)              \n",
    "            nat_death = 0.00002366575 #taken from CDC: \n",
    "                #https://www.cdc.gov/nchs/fastats/deaths.htm & scaled to be daily rate instead of yearly\n",
    "            new_gamma = max(nat_death, gamma + mut2)\n",
    "\n",
    "            #append new case to infecteds array\n",
    "            infecteds = np.append(infecteds, [[new_beta, new_gamma, t]], axis=0)\n",
    "            \n",
    "            #update the sums of beta and gamma\n",
    "            beta_sum += new_beta; gamma_sum += new_gamma\n",
    "            \n",
    "            #update N\n",
    "            N += 1\n",
    "            \n",
    "            #update return arrays\n",
    "            all_times = np.append(all_times, t)\n",
    "            all_betas = np.append(all_betas, new_beta)\n",
    "            all_gammas = np.append(all_gammas, new_gamma)\n",
    "            all_N = np.append(all_N, N)\n",
    "\n",
    "        else: #recovery\n",
    "            \n",
    "            #delete them from infecteds array\n",
    "            infecteds = np.delete(infecteds, i, axis=0)\n",
    "            \n",
    "            #update the sums of beta and gamma\n",
    "            beta_sum -= betas[i]; gamma_sum -= gammas[i]\n",
    "            \n",
    "            #update N\n",
    "            N -= 1\n",
    "            \n",
    "            #update return arrays\n",
    "            all_times = np.append(all_times, t)\n",
    "            all_betas = np.append(all_betas, None)\n",
    "            all_gammas = np.append(all_gammas, None)\n",
    "            all_N = np.append(all_N, N)\n",
    "\n",
    "            #check if we have extinction       \n",
    "            if N == 0:\n",
    "                #print(\"\\n\", \"extinction\")\n",
    "                return Sim(0, all_times, all_betas, all_gammas, all_N)\n",
    "\n",
    "#########################################################\n",
    "# merges several Sim objects to get a single Sim object \n",
    "# used in order to superimpose branching trees that correspond to distinct spillover events, but that may overlap each other in time.\n",
    "#########################################################\n",
    "# \n",
    "# input sims is a list of Sim objects\n",
    "#\n",
    "# returns a single Sim object\n",
    "#\n",
    "# TO DO: right now the resulting return object always has self.outcome == None. \n",
    "# Update this later to be able to return 0, 1, or None appropriately.\n",
    "# Right now, only recurrent_sim_class calls this function.\n",
    "#\n",
    "#########################################################\n",
    "\n",
    "def merge_sims(Sims):\n",
    "\n",
    "    #initialize stuff to turn into a Sim object and return\n",
    "    merged_t = np.array([])\n",
    "    merged_betas = np.array([])\n",
    "    merged_gammas = np.array([])\n",
    "    merged_N = np.array([])\n",
    "    \n",
    "    #keep pointers to indices of next unmerged element of each Sim object.\n",
    "    pointers = np.zeros(len(Sims), dtype=int) #start the pointers at 0\n",
    "    \n",
    "    #keep a running count of how many infecteds there are\n",
    "    N = 0\n",
    "        \n",
    "    while len(Sims) > 0:\n",
    "        # find the next element to merge in. i.e:\n",
    "        # find min time out of all times at current pointer indices. also get the index of that time\n",
    "        min_t = np.inf\n",
    "        min_i = np.inf\n",
    "        for i in range(len(Sims)): \n",
    "            t = Sims[i].t[pointers[i]]\n",
    "            if t < min_t:\n",
    "                min_t = t\n",
    "                min_i = i\n",
    "        \n",
    "        # now merge that element in\n",
    "        elt = Sims[min_i].element(pointers[min_i]) #grab the element\n",
    "        beta = elt[1] \n",
    "        gamma = elt[2]\n",
    "        \n",
    "        # merge in t, beta, and gamma\n",
    "        merged_t = np.append(merged_t, min_t)\n",
    "        merged_betas = np.append(merged_betas, beta)\n",
    "        merged_gammas = np.append(merged_gammas, gamma)\n",
    "        \n",
    "        # for N we have to treat it a bit different.\n",
    "        # first check if it was a new infection or a recovery, and update the running count\n",
    "        if beta == None: #for a recovery, beta and gamma are None\n",
    "            N -= 1\n",
    "        else: #new infection\n",
    "            N += 1\n",
    "        # then merge in the running count\n",
    "        merged_N = np.append(merged_N, N)\n",
    "        \n",
    "        #update pointer\n",
    "        pointers[min_i] += 1\n",
    "        \n",
    "        #if that was the end of the list, remove that list\n",
    "        if pointers[min_i] == Sims[min_i].length():\n",
    "            del Sims[min_i]\n",
    "            pointers = np.delete(pointers, min_i)\n",
    "                         \n",
    "    return Sim(None, merged_t, merged_betas, merged_gammas, merged_N)\n",
    "\n",
    "################################################\n",
    "#\n",
    "# version of recurrent_sim which returns an element of the class Sim\n",
    "#\n",
    "################################################\n",
    "#\n",
    "# optional input t_thresh is the maximum amount of time to run the simulation before cutting it off. Has a default value.\n",
    "# \n",
    "# returns an instance of the class Sim.\n",
    "# the return object will always have \"None\" for self.outcome, instead of 0 or 1.\n",
    "#\n",
    "#################################################\n",
    "\n",
    "def recurrent_sim_class(alpha, beta_0, gamma_0, mu_1=0, mu_2=0, t_thresh = 1000): \n",
    "    \n",
    "    #if alpha=0 there is no recurrence of spillovers.\n",
    "    if alpha == 0:\n",
    "        return sim_class(beta_0, gamma_0, mu_1, mu_2)\n",
    "    \n",
    "    #generate all times of spillover events up until t_thresh\n",
    "    t_spillovers = np.array([0])\n",
    "    \n",
    "    t_s = 0\n",
    "    while t_s < t_thresh:\n",
    "        dt_s = np.random.exponential(scale=1/alpha) #inter-spillover time\n",
    "        t_s += dt_s #time of next spillover\n",
    "        if t_s < t_thresh:\n",
    "            t_spillovers = np.append(t_spillovers, t_s)\n",
    "        \n",
    "    #for each spillover event that was generated, simulate its infection tree\n",
    "    #collect all resulting Sim objects in a list\n",
    "    sims = []\n",
    "    for t in t_spillovers:\n",
    "        sims.append(sim_class(beta_0, gamma_0, mu_1, mu_2, t=t))\n",
    "        \n",
    "    #truncate anything that happened after t_thresh\n",
    "    for sim in sims:\n",
    "        sim.truncate(t_thresh)\n",
    "    \n",
    "    #merge the results into a single Sim object and return\n",
    "    return merge_sims(sims)"
>>>>>>> Stashed changes
   ]
  },
  {
   "cell_type": "code",
   "execution_count": null,
   "metadata": {},
   "outputs": [],
<<<<<<< Updated upstream
   "source": [
    "%%time\n",
    "sim_percentage_gen(beta_0, gamma_0, mu_1, mu_2, N_sims=1000)"
   ]
=======
   "source": []
>>>>>>> Stashed changes
  },
  {
   "cell_type": "code",
   "execution_count": null,
   "metadata": {},
   "outputs": [],
<<<<<<< Updated upstream
   "source": [
    "%%time\n",
    "sim_percentage_approx_time(beta_0, gamma_0, mu_1, mu_2, N_sims=1000)"
   ]
=======
   "source": []
>>>>>>> Stashed changes
  },
  {
   "cell_type": "code",
   "execution_count": null,
   "metadata": {},
   "outputs": [],
<<<<<<< Updated upstream
   "source": [
    "%%time\n",
    "sim_percentage_time(beta_0, gamma_0, mu_1, mu_2, N_sims=1000)"
   ]
=======
   "source": []
>>>>>>> Stashed changes
  }
 ],
 "metadata": {
  "kernelspec": {
   "display_name": "Python 3",
   "language": "python",
   "name": "python3"
  },
  "language_info": {
   "codemirror_mode": {
    "name": "ipython",
    "version": 3
   },
   "file_extension": ".py",
   "mimetype": "text/x-python",
   "name": "python",
   "nbconvert_exporter": "python",
   "pygments_lexer": "ipython3",
   "version": "3.7.6"
  }
 },
 "nbformat": 4,
 "nbformat_minor": 4
}
