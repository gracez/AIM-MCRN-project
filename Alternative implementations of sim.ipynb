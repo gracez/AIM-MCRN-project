{
 "cells": [
  {
   "cell_type": "code",
   "execution_count": 10,
   "metadata": {},
   "outputs": [],
   "source": [
    "import numpy as np\n",
    "import matplotlib.pyplot as plt"
   ]
  },
  {
   "cell_type": "code",
   "execution_count": 11,
   "metadata": {},
   "outputs": [],
   "source": [
    "# #class representing an infected person\n",
    "# class Infected:\n",
    "#     def __init__(self, beta, gamma, t):\n",
    "#         self.beta = beta\n",
    "#         self.gamma = gamma\n",
    "#         self.t = t #time infected"
   ]
  },
  {
   "cell_type": "code",
   "execution_count": 70,
   "metadata": {},
   "outputs": [],
   "source": [
    "###################################################\n",
    "# original implementation. \n",
    "# done purely by \"generation order\" instead of \"time order\".        \n",
    "###################################################\n",
    "\n",
    "def sim_gen(beta_0, gamma_0, mu_1=0, mu_2=0):\n",
    "    \n",
    "    outbreak_thresh = 500 #call it an outbreak if this many people are infected\n",
    "    \n",
    "    #store active cases as an array of triples\n",
    "    #each triple looks like [beta, gamma, time of infection] and represents one infected person\n",
    "    infecteds=[[beta_0, gamma_0, 0]]\n",
    "    \n",
    "    N_infected = len(infecteds) #keep track of number of infected people\n",
    "    \n",
    "    t_ext = None #time of extinction, will fill this value and return it if the infection goes extinct\n",
    "    \n",
    "    while True: \n",
    "        \n",
    "        #print(\"\\n\", \"infecteds now = \", infecteds)\n",
    "        \n",
    "        #keeps track of indices of recovered people\n",
    "        #will delete them from array of infecteds at the end of each while loop iteration\n",
    "        recovereds = []\n",
    "        \n",
    "        for i, person in enumerate(infecteds): #go through and branch each person in array of infecteds\n",
    "\n",
    "            #print(\"\\n\", \"branching person\", i)\n",
    "            \n",
    "            [beta, gamma, t] = person\n",
    "            \n",
    "            while True:\n",
    "                                \n",
    "                #interevent time\n",
    "                #note this is interevent time for ONE person, NOT for entire population\n",
    "                dt = np.random.exponential(scale=1/(beta + gamma))\n",
    "                new_t = t + dt #time of new event\n",
    "                \n",
    "                #pick which new event happens, transmission or recovery         \n",
    "                ev = np.random.rand() #draw number from uniform distribution over [0, 1)\n",
    "                prob_trans = beta / (beta+gamma)\n",
    "\n",
    "                if (ev < prob_trans): #transmission\n",
    "                    \n",
    "                    #print(\"person\", i, \" is transmitting\")\n",
    "                    \n",
    "                    #pick beta and gamma for new case\n",
    "                    #mutation is a number drawn from normal distribution with std dev mu_1 or mu_2\n",
    "                    #don't allow negative beta.\n",
    "                    #don't allow gamma to be less than a small value, the natural death rate.\n",
    "                    mut1 = np.random.normal(loc=0.0, scale=mu_1)\n",
    "                    new_beta = max(0, beta + mut1)\n",
    "                    mut2 = np.random.normal(loc=0.0, scale=mu_2)              \n",
    "                    nat_death = 0.00002366575 #taken from CDC: https://www.cdc.gov/nchs/fastats/deaths.htm & scaled to be daily rate instead of yearly\n",
    "                    new_gamma = max(nat_death, gamma + mut2)\n",
    "                    \n",
    "                    #append new person to array of infecteds\n",
    "                    infecteds = np.append(infecteds, [[new_beta, new_gamma, new_t]], axis=0)\n",
    "                    N_infected += 1\n",
    "\n",
    "                    #print(\"new infection: \", [new_beta, new_gamma, new_t])\n",
    "\n",
    "                else: #recovery\n",
    "                    \n",
    "                    #print(\"person\", i, \" recovers\") \n",
    "                    \n",
    "                    N_infected -= 1\n",
    "                    \n",
    "                    if N_infected == 0:\n",
    "                        t_ext = new_t #time of extinction\n",
    "                    \n",
    "                    #mark index of this recovered person, in order to delete them later\n",
    "                    #(we don't delete yet, because that will mess up the indexing of the for loop)\n",
    "                    recovereds.append(i)\n",
    "                    break #skip to next person\n",
    "\n",
    "        #after each time we complete a round of branching everybody:\n",
    "        #1. update the array of infecteds by deleting recoveries\n",
    "        infecteds = np.delete(infecteds, recovereds, axis=0)\n",
    "        #2. check if we have extinction/outbreak yet\n",
    "        if N_infected == 0:\n",
    "            #print(\"\\n\", \"extinction\")\n",
    "            return [0, t_ext]\n",
    "        elif N_infected >= outbreak_thresh:\n",
    "            #print(\"\\n\", \"outbreak!\")\n",
    "            return [1]"
   ]
  },
  {
   "cell_type": "code",
   "execution_count": 71,
   "metadata": {},
   "outputs": [],
   "source": [
    "###############################################################\n",
    "# second implementation. \n",
    "# done by \"approximate time order\".\n",
    "# i.e. fully branch one person until recovery, sort list of infecteds by time infected, and repeat           #\n",
    "###############################################################\n",
    "\n",
    "def sim_approx_time(beta_0, gamma_0, mu_1=0, mu_2=0):\n",
    "    \n",
    "    outbreak_thresh = 500 #call it an outbreak if this many people are infected\n",
    "    \n",
    "    #store active cases as an array of triples\n",
    "    #each triple looks like [beta, gamma, time of infection] and represents one infected person\n",
    "    infecteds=np.array([[beta_0, gamma_0, 0]])\n",
    "    N_infected = 1 #keep track of number of infected people. \n",
    "    \n",
    "    t_ext = None #time of extinction, will fill this value and return it if the infection goes extinct\n",
    "    \n",
    "    while True: \n",
    "        \n",
    "        #print(\"\\n\", \"infecteds now = \", infecteds)\n",
    "        \n",
    "        person = infecteds[0] #branch person 0. note infecteds is maintained in order of increasing time of infection. \n",
    "        [beta, gamma, t] = person\n",
    "        #print(\"\\n\", \"branching person who was infected at time\", t)\n",
    "\n",
    "        while True: #branch person 0 until they recover.\n",
    "\n",
    "            #interevent time\n",
    "            #note this is interevent time for ONE person, NOT for entire population\n",
    "            dt = np.random.exponential(scale=1/(beta + gamma))\n",
    "            new_t = t + dt\n",
    "\n",
    "            #pick which event happens, transmission or recovery         \n",
    "            ev = np.random.rand() #draw number from uniform distribution over [0, 1)\n",
    "            prob_trans = beta / (beta+gamma) #probability of transmission\n",
    "            \n",
    "            if (ev < prob_trans): #transmission\n",
    "\n",
    "                #print(\"transmitting\")\n",
    "\n",
    "                #pick beta and gamma for new case\n",
    "                #mutation is a number drawn from normal distribution with std dev mu_1 or mu_2\n",
    "                #don't allow negative beta.\n",
    "                #don't allow gamma to be less than a small value, the natural death rate.\n",
    "                mut1 = np.random.normal(loc=0.0, scale=mu_1)\n",
    "                new_beta = max(0, beta + mut1)\n",
    "                mut2 = np.random.normal(loc=0.0, scale=mu_2)              \n",
    "                nat_death = 0.00002366575 #taken from CDC: https://www.cdc.gov/nchs/fastats/deaths.htm & scaled to be daily rate instead of yearly\n",
    "                new_gamma = max(nat_death, gamma + mut2)\n",
    "\n",
    "                N_infected += 1\n",
    "                \n",
    "                #print(N_infected)\n",
    "\n",
    "                #check if we have an outbreak\n",
    "                if N_infected >= outbreak_thresh:\n",
    "                    \n",
    "                    #print(\"\\n\", \"outbreak!\")\n",
    "                    \n",
    "                    return [1]\n",
    "\n",
    "                #append new person to array of infecteds\n",
    "                infecteds = np.append(infecteds, [[new_beta, new_gamma, new_t]], axis=0)\n",
    "                \n",
    "                #print(\"new infection: \", [new_beta, new_gamma, new_t])\n",
    "\n",
    "            else: #recovery\n",
    "\n",
    "                #print(\"recovering\") \n",
    "\n",
    "                N_infected -= 1\n",
    "                \n",
    "                #print(N_infected)\n",
    "\n",
    "                #check if we have extinction       \n",
    "                if N_infected == 0:\n",
    "                    t_ext = new_t #time of extinction\n",
    "                    \n",
    "                    #print(\"\\n\", \"extinction\")\n",
    "                    \n",
    "                    return [0, t_ext]\n",
    "\n",
    "                #delete the person \n",
    "                infecteds = np.delete(infecteds, 0, axis=0)\n",
    "                \n",
    "                break #skip to next person\n",
    "\n",
    "            #sort the array of infecteds in increasing order of time infected. \n",
    "            sorted_indices = np.argsort(infecteds[:,2])\n",
    "            infecteds = infecteds[sorted_indices]        "
   ]
  },
  {
   "cell_type": "code",
   "execution_count": 72,
   "metadata": {},
   "outputs": [],
   "source": [
    "###################################################\n",
    "# third implementation.\n",
    "# done by exact time order.\n",
    "###################################################\n",
    "\n",
    "def sim_time(beta_0, gamma_0, mu_1=0, mu_2=0):\n",
    "    \n",
    "    outbreak_thresh = 500 #call it an outbreak if this many people are infected\n",
    "    \n",
    "    t = 0 #initialize variable to keep track of time\n",
    "        \n",
    "    #initialize matrix of active cases. each case is a row of length 3.\n",
    "    # each row looks like [beta, gamma, time of infection] of that person. \n",
    "    infecteds=np.array([[beta_0, gamma_0, t]])\n",
    "    \n",
    "    #initialize variables to keep track of sums of beta and gamma over all currently infected people    \n",
    "    beta_sum = beta_0\n",
    "    gamma_sum = gamma_0\n",
    "    \n",
    "    #initial variable to count total number of infected\n",
    "    N = 1\n",
    "    \n",
    "    while True:\n",
    "        \n",
    "        #grab array of all betas and array of all gammas\n",
    "        betas = infecteds[:,0]\n",
    "        gammas = infecteds[:,1]\n",
    "        \n",
    "        #compute interevent time\n",
    "        \n",
    "        #rate is sum of beta and gamma over all infected people\n",
    "        overall_rate = beta_sum + gamma_sum\n",
    "        #draw from exponential distribution with this rate\n",
    "        dt = np.random.exponential(scale=1/overall_rate)\n",
    "        t += dt\n",
    "        \n",
    "        #figure out who the event happened to\n",
    "        i = np.random.choice(N, p=(betas+gammas)/overall_rate) #index of that person\n",
    "        \n",
    "        #grab their specific beta and gamma\n",
    "        beta = betas[i]\n",
    "        gamma = gammas[i]\n",
    "        \n",
    "        #figure out what they did, transmit or recover. \n",
    "        ev = np.random.rand() #draw from uniform distribution over [0, 1)\n",
    "        prob_trans = beta / (beta + gamma) #probability of transmission\n",
    "\n",
    "        if (ev < prob_trans): #transmission\n",
    "\n",
    "            #pick beta and gamma for new case\n",
    "            #mutation is a number drawn from normal distribution with std dev mu_1 or mu_2\n",
    "            #don't allow negative beta.\n",
    "            #don't allow gamma to be less than a small value, the natural death rate.\n",
    "            mut1 = np.random.normal(loc=0.0, scale=mu_1)\n",
    "            new_beta = max(0, beta + mut1)\n",
    "            mut2 = np.random.normal(loc=0.0, scale=mu_2)              \n",
    "            nat_death = 0.00002366575 #taken from CDC: https://www.cdc.gov/nchs/fastats/deaths.htm & scaled to be daily rate instead of yearly\n",
    "            new_gamma = max(nat_death, gamma + mut2)\n",
    "\n",
    "            #append new case to infecteds array\n",
    "            infecteds = np.append(infecteds, [[new_beta, new_gamma, t]], axis=0)\n",
    "            \n",
    "            #update the sum of beta and gamma\n",
    "            beta_sum += new_beta\n",
    "            gamma_sum += new_gamma\n",
    "            \n",
    "            #update N\n",
    "            N += 1\n",
    "\n",
    "            #check if we have an outbreak\n",
    "            if N >= outbreak_thresh:\n",
    "\n",
    "                #print(\"\\n\", \"outbreak!\")\n",
    "\n",
    "                return [1]\n",
    "\n",
    "        else: #recovery\n",
    "            \n",
    "            #delete them from infecteds array\n",
    "            infecteds = np.delete(infecteds, i, axis=0)\n",
    "            \n",
    "            #update the sum of beta and gamma\n",
    "            beta_sum -= betas[i]\n",
    "            gamma_sum -= gammas[i]\n",
    "            \n",
    "            #update N\n",
    "            N -= 1\n",
    "\n",
    "            #check if we have extinction       \n",
    "            if N == 0:\n",
    "\n",
    "                #print(\"\\n\", \"extinction\")\n",
    "\n",
    "                return [0, t]"
   ]
  },
  {
   "cell_type": "markdown",
   "metadata": {},
   "source": [
    "The remaining cells are for testing execution time"
   ]
  },
  {
   "cell_type": "code",
   "execution_count": 73,
   "metadata": {},
   "outputs": [],
   "source": [
    "#parameters for time tests\n",
    "beta_0 = 0.09\n",
    "gamma_0 = 0.1\n",
    "mu_1 = 0.01\n",
    "mu_2 = 0.01"
   ]
  },
  {
   "cell_type": "code",
   "execution_count": 74,
   "metadata": {},
   "outputs": [
    {
     "name": "stdout",
     "output_type": "stream",
     "text": [
      "CPU times: user 919 µs, sys: 187 µs, total: 1.11 ms\n",
      "Wall time: 951 µs\n"
     ]
    },
    {
     "data": {
      "text/plain": [
       "[0, 66.2441020649024]"
      ]
     },
     "execution_count": 74,
     "metadata": {},
     "output_type": "execute_result"
    }
   ],
   "source": [
    "%%time\n",
    "sim_gen(beta_0, gamma_0, mu_1, mu_2)"
   ]
  },
  {
   "cell_type": "code",
   "execution_count": 75,
   "metadata": {},
   "outputs": [
    {
     "name": "stdout",
     "output_type": "stream",
     "text": [
      "CPU times: user 308 µs, sys: 93 µs, total: 401 µs\n",
      "Wall time: 338 µs\n"
     ]
    },
    {
     "data": {
      "text/plain": [
       "[0, 25.876468889792797]"
      ]
     },
     "execution_count": 75,
     "metadata": {},
     "output_type": "execute_result"
    }
   ],
   "source": [
    "%%time\n",
    "sim_approx_time(beta_0, gamma_0, mu_1, mu_2)"
   ]
  },
  {
   "cell_type": "code",
   "execution_count": 76,
   "metadata": {},
   "outputs": [
    {
     "name": "stdout",
     "output_type": "stream",
     "text": [
      "CPU times: user 267 µs, sys: 42 µs, total: 309 µs\n",
      "Wall time: 282 µs\n"
     ]
    },
    {
     "data": {
      "text/plain": [
       "[0, 2.2500919817342324]"
      ]
     },
     "execution_count": 76,
     "metadata": {},
     "output_type": "execute_result"
    }
   ],
   "source": [
    "%%time\n",
    "sim_time(beta_0, gamma_0, mu_1, mu_2)"
   ]
  },
  {
   "cell_type": "code",
   "execution_count": 33,
   "metadata": {},
   "outputs": [],
   "source": [
    "#####################################################\n",
    "# runs many simulations WITHOUT recurrent spillover #\n",
    "#####################################################\n",
    "\n",
    "def sim_percentage_gen(beta_0, gamma_0, mu_1=0, mu_2=0, N_sims=1000):   \n",
    "    N_outbreaks = 0  \n",
    "    for i in range(N_sims):\n",
    "        if sim_gen(beta_0, gamma_0, mu_1, mu_2) == [1]: N_outbreaks += 1\n",
    "    return N_outbreaks/N_sims\n",
    "\n",
    "def sim_percentage_approx_time(beta_0, gamma_0, mu_1=0, mu_2=0, N_sims=1000):   \n",
    "    N_outbreaks = 0  \n",
    "    for i in range(N_sims):\n",
    "        if sim_approx_time(beta_0, gamma_0, mu_1, mu_2) == [1]: N_outbreaks += 1\n",
    "    return N_outbreaks/N_sims\n",
    "\n",
    "def sim_percentage_time(beta_0, gamma_0, mu_1=0, mu_2=0, N_sims=1000):   \n",
    "    N_outbreaks = 0  \n",
    "    for i in range(N_sims):\n",
    "        if sim_time(beta_0, gamma_0, mu_1, mu_2) == [1]: N_outbreaks += 1\n",
    "    return N_outbreaks/N_sims"
   ]
  },
  {
   "cell_type": "code",
   "execution_count": null,
   "metadata": {},
   "outputs": [],
   "source": [
    "%%time\n",
    "sim_percentage_gen(beta_0, gamma_0, mu_1, mu_2, N_sims=1000)"
   ]
  },
  {
   "cell_type": "code",
   "execution_count": null,
   "metadata": {},
   "outputs": [],
   "source": [
    "%%time\n",
    "sim_percentage_approx_time(beta_0, gamma_0, mu_1, mu_2, N_sims=1000)"
   ]
  },
  {
   "cell_type": "code",
   "execution_count": null,
   "metadata": {},
   "outputs": [],
   "source": [
    "%%time\n",
    "sim_percentage_time(beta_0, gamma_0, mu_1, mu_2, N_sims=1000)"
   ]
  }
 ],
 "metadata": {
  "kernelspec": {
   "display_name": "Python 3",
   "language": "python",
   "name": "python3"
  },
  "language_info": {
   "codemirror_mode": {
    "name": "ipython",
    "version": 3
   },
   "file_extension": ".py",
   "mimetype": "text/x-python",
   "name": "python",
   "nbconvert_exporter": "python",
   "pygments_lexer": "ipython3",
   "version": "3.7.6"
  }
 },
 "nbformat": 4,
 "nbformat_minor": 4
}
