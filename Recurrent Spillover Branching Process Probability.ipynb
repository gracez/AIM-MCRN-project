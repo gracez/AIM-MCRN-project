{
 "cells": [
  {
   "cell_type": "markdown",
   "metadata": {},
   "source": [
    "Recurrent spillover branching process (infinite population), plots probabilities of outbreak (??)\n",
    "\n",
    "TO DO: clarify what probability of outbreak even means here. \n",
    "In the code, extinction means a time when nobody is infected. Outbreak is when number of infecteds hits a threshold. Probability of outbreak means probability of hitting the latter before the former. Is this a sensible notion for this context??"
   ]
  },
  {
   "cell_type": "code",
   "execution_count": 6,
   "metadata": {},
   "outputs": [],
   "source": [
    "import numpy as np\n",
    "import matplotlib.pyplot as plt"
   ]
  },
  {
   "cell_type": "code",
   "execution_count": 7,
   "metadata": {},
   "outputs": [],
   "source": [
    "#THE RECURRENT SPILLOVER FUNCTION NEEDS TO CALL THIS SINGLE SPILLOVER FUNCTION\n",
    "\n",
    "###################################################\n",
    "# simulates infection WITHOUT recurrent spillover \n",
    "# allows both gamma and beta to mutate            \n",
    "#\n",
    "# note: this implementation branches people in \"generation order\" instead of in \"time order\"\n",
    "# (faster to run, and still gives the same result in the limit as outbreak_thresh -> infinity)\n",
    "# for an implementation done in time order, see the function sim_class\n",
    "#\n",
    "# also note that if the infection goes extinct the time of extinction is well-defined, and either implementation computes it correctly.\n",
    "###################################################\n",
    "#\n",
    "# input beta_0 is transmission rate of the initial case.\n",
    "# input gamma_0 is recovery rate of the initial case. \n",
    "#\n",
    "# optional input mu_1 represents mutation rate for beta. If unspecified, defaults to 0.\n",
    "# optional input mu_2 represents mutation rate for gamma. If unspecified, defaults to 0.\n",
    "#\n",
    "###################################################\n",
    "#\n",
    "# returns 0, t_ext if extinction, where t_ext is time of extinction. \n",
    "# returns 1 if outbreak\n",
    "#\n",
    "###################################################\n",
    "\n",
    "def sim(beta_0, gamma_0, mu_1=0, mu_2=0):\n",
    "    \n",
    "    outbreak_thresh = 100 #call it an outbreak if this many people are infected\n",
    "    \n",
    "    t = 0\n",
    "    \n",
    "    #store active cases as an array of triples\n",
    "    #each triple looks like [beta, gamma, time of infection] and represents one infected person\n",
    "    infecteds=[[beta_0, gamma_0, t]]\n",
    "    \n",
    "    N_infected = len(infecteds) #keep track of number of infected people\n",
    "    \n",
    "    t_ext = None #time of extinction, will fill this value and return it if the infection goes extinct\n",
    "    \n",
    "    while True: \n",
    "        \n",
    "        #print(\"\\n\", \"infecteds now = \", infecteds)\n",
    "        \n",
    "        #keeps track of indices of recovered people\n",
    "        #will delete them from array of infecteds at the end of each while loop iteration\n",
    "        recovereds = []\n",
    "        \n",
    "        for i, person in enumerate(infecteds): #go through and branch each person in array of infecteds\n",
    "\n",
    "            #print(\"\\n\", \"branching person\", i)\n",
    "            \n",
    "            [beta, gamma, t] = person\n",
    "            \n",
    "            while True:\n",
    "                                \n",
    "                #interevent time\n",
    "                #note this is interevent time for ONE person, NOT for entire population\n",
    "                dt = np.random.exponential(scale = 1/(beta + gamma))\n",
    "                new_t = t + dt #time of new event\n",
    "                \n",
    "                #pick which new event happens, transmission or recovery         \n",
    "                ev = np.random.rand() #draw number from uniform distribution over [0, 1)\n",
    "                prob_trans = beta / (beta+gamma)\n",
    "\n",
    "                if (ev < prob_trans): #transmission\n",
    "                    \n",
    "                    #print(\"person\", i, \" is transmitting\")\n",
    "                    \n",
    "                    #pick beta and gamma for new case\n",
    "                    #mutation is a number drawn from normal distribution with std dev mu_1 or mu_2\n",
    "                    #don't allow negative beta.\n",
    "                    #don't allow gamma to be less than a small value, the natural death rate.\n",
    "                    mut1 = np.random.normal(loc=0.0, scale=mu_1)\n",
    "                    new_beta = max(0, beta + mut1)\n",
    "                    mut2 = np.random.normal(loc=0.0, scale=mu_2)              \n",
    "                    nat_death = 0.00002366575 #taken from CDC: https://www.cdc.gov/nchs/fastats/deaths.htm & scaled to be daily rate instead of yearly\n",
    "                    new_gamma = max(nat_death, gamma + mut2)\n",
    "                    \n",
    "                    #append new person to array of infecteds\n",
    "                    infecteds = np.append(infecteds, [[new_beta, new_gamma, new_t]], axis=0)\n",
    "                    N_infected += 1\n",
    "                    \n",
    "                    if N_infected >= outbreak_thresh:\n",
    "                        #print(\"\\n\", \"outbreak!\")\n",
    "                        return 1\n",
    "\n",
    "                    #print(\"new infection: \", [new_beta, new_gamma, new_t])\n",
    "\n",
    "                else: #recovery\n",
    "                    \n",
    "                    #print(\"person\", i, \" recovers\") \n",
    "                    \n",
    "                    N_infected -= 1\n",
    " \n",
    "                    if N_infected == 0:\n",
    "                        #print(\"\\n\", \"extinction\")\n",
    "                        return 0, new_t\n",
    "                    \n",
    "                    #mark index of this recovered person, in order to delete them later\n",
    "                    #(we don't delete yet, because that will mess up the indexing of the for loop)\n",
    "                    recovereds.append(i)\n",
    "                    break #skip to next person\n",
    "\n",
    "        #after each time we complete a round of branching everybody:\n",
    "        #update the array of infecteds by deleting recoveries\n",
    "        infecteds = np.delete(infecteds, recovereds, axis=0)"
   ]
  },
  {
   "cell_type": "code",
   "execution_count": 8,
   "metadata": {},
   "outputs": [],
   "source": [
    "################################################\n",
    "# simulates infection WITH recurrent spillover \n",
    "#\n",
    "# this implementation is in \"generation order\" since it calls on the function sim.\n",
    "# furthermore, each entire spillover tree is simulated before moving on to the next tree.\n",
    "# for a \"time order\" implementation, see recurrent_sim_class.\n",
    "#\n",
    "################################################\n",
    "#\n",
    "# input alpha = spillover rate.\n",
    "#\n",
    "# inputs beta_0, gamma_0, mu_1, mu_2 are the same as in the function sim from above\n",
    "#\n",
    "# there are two hidden inputs max_t_ext, t_s, which you should ignore. (do NOT pass in any values for these.)\n",
    "# they are only used implicitly when this function recursively calls itself.\n",
    "#\n",
    "################################################\n",
    "#\n",
    "# returns 1 if outbreak\n",
    "# returns 0 if extinction\n",
    "#\n",
    "################################################\n",
    "#\n",
    "# TO DO: when alpha > 0, there may be the possibility of endemicity. \n",
    "# Right now, this function only terminates at outbreak or extinction. Need to fix this in the future.\n",
    "# See recurrent_sim_class for an implementation which terminates after a certain maximum simulated number of days.\n",
    "#\n",
    "################################################\n",
    "\n",
    "def recurrent_sim(alpha, beta_0, gamma_0, mu_1=0, mu_2=0, max_t_ext=0, t_s=0): \n",
    "    \n",
    "    # hidden input max_t_ext keeps track of maximum extinction time seen so far\n",
    "    # hidden input t_s keeps track of most recent time of spillover\n",
    "    \n",
    "    # simulate tree from a new spillover event\n",
    "    sim_output = sim(beta_0, gamma_0, mu_1, mu_2)\n",
    "\n",
    "    # if it outbreaks, we are done\n",
    "    if sim_output == 1:\n",
    "        \n",
    "        #print(\"\\n\", \"outbreak!\")\n",
    "        return 1\n",
    "    \n",
    "    # otherwise, that tree goes extinct\n",
    "    # but we need to check whether any other spillovers happened in the meantime\n",
    "    else:\n",
    "        \n",
    "        #print(\"max_t_ext updating, = max of \", max_t_ext, \"and\", sim_output[1])\n",
    "        max_t_ext = max(max_t_ext, sim_output[1]) #update max extinction time, if necessary\n",
    "        \n",
    "       #if alpha is 0, no more spillovers ever occur. we are done.\n",
    "        if alpha == 0: \n",
    "            return 0\n",
    "        \n",
    "        #otherwise, generate time of next spillover\n",
    "        dt_s = np.random.exponential(scale=1/alpha) #inter-spillover time\n",
    "        t_s += dt_s #time of next spillover\n",
    "        #print(\"time of spillover is t_s = \", t_s)\n",
    "\n",
    "        # if spillover occurs soon enough, we have to simulate another tree. recurse.\n",
    "        if t_s < max_t_ext: \n",
    "            \n",
    "            #print(\"a spillover occured! Recursing...\")\n",
    "            return recurrent_sim(alpha, beta_0, gamma_0, mu_1, mu_2, max_t_ext, t_s)\n",
    "\n",
    "        # if spillover occurs too late, we are done.\n",
    "        else: \n",
    "            \n",
    "            #print(\"next spillover too late. extinction!\")\n",
    "            return 0"
   ]
  },
  {
   "cell_type": "code",
   "execution_count": 9,
   "metadata": {},
   "outputs": [],
   "source": [
    "##################################################\n",
    "# runs many simulations WITH recurrent spillover #\n",
    "##################################################\n",
    "#\n",
    "# returns the percentage of them that outbreak\n",
    "#\n",
    "##################################################\n",
    "\n",
    "def recurrent_sim_percentage(alpha, beta_0, gamma_0, mu_1 = 0, mu_2 = 0, N_sims=100): \n",
    "    N_outbreaks = 0\n",
    "    for i in range(N_sims):\n",
    "        if recurrent_sim(alpha, beta_0, gamma_0, mu_1, mu_2) == 1: \n",
    "                N_outbreaks += 1\n",
    "    return N_outbreaks/N_sims"
   ]
  },
  {
   "cell_type": "code",
   "execution_count": 10,
   "metadata": {},
   "outputs": [
    {
     "data": {
      "text/plain": [
       "0"
      ]
     },
     "execution_count": 10,
     "metadata": {},
     "output_type": "execute_result"
    }
   ],
   "source": [
    "# run a single simulation\n",
    "\n",
    "#parameters\n",
    "alpha = 0.1\n",
    "beta_0 = 0.09\n",
    "gamma_0 = 0.1\n",
    "\n",
    "recurrent_sim(alpha, beta_0, gamma_0)"
   ]
  },
  {
   "cell_type": "code",
   "execution_count": 11,
   "metadata": {},
   "outputs": [
    {
     "name": "stdout",
     "output_type": "stream",
     "text": [
      "CPU times: user 1.88 s, sys: 21.6 ms, total: 1.9 s\n",
      "Wall time: 1.92 s\n"
     ]
    },
    {
     "data": {
      "text/plain": [
       "0.886"
      ]
     },
     "execution_count": 11,
     "metadata": {},
     "output_type": "execute_result"
    }
   ],
   "source": [
    "%%time\n",
    "# run a bulk simulation\n",
    "\n",
    "#parameters\n",
    "alpha = 0.01\n",
    "beta_0 = 0.09\n",
    "gamma_0 = 0.01\n",
    "mu_1=0.001\n",
    "mu_1=0.001\n",
    "\n",
    "recurrent_sim_percentage(alpha, beta_0, gamma_0, mu_1, mu_1, N_sims=1000)"
   ]
  },
  {
   "cell_type": "code",
   "execution_count": 12,
   "metadata": {},
   "outputs": [],
   "source": [
    "###########################################################################\n",
    "# for a fixed mu and alpha, plots the probability of outbreak against R_0 #\n",
    "###########################################################################\n",
    "#\n",
    "# input alpha\n",
    "# input mu = mu_1 = mu_2\n",
    "#\n",
    "# optional inputs R0_min, R0_max give range of R_0 to plot over.\n",
    "# optional input N_points gives number of points to plot.\n",
    "# optional inputs N_sims gives number of simulations to run per point.\n",
    "#\n",
    "##########################################################################\n",
    "\n",
    "def recurrent_prob_plot(alpha, mu, R0_min=0.001, R0_max=2.5, N_points = 75, N_sims=750):\n",
    "    \n",
    "    # Take some evenly spaced R_0 values\n",
    "    # Note that it does matter what beta and gamma are, even if they give the same R_0. \n",
    "    # But here we're just fixing gamma to be 0.1\n",
    "    # TO DO later: explore other choices.\n",
    "    beta_range = np.linspace(R0_min/10, R0_max/10, N_points); gamma = 0.1\n",
    "    \n",
    "    # initialize arrays to be plotted\n",
    "    R0 = []; percent = []\n",
    "\n",
    "    #simulate percentages of outbreak\n",
    "    for beta in beta_range:\n",
    "        R0 = np.append(R0, beta/gamma)\n",
    "        percent = np.append(percent, recurrent_sim_percentage(alpha, beta, gamma, mu, mu, N_sims))\n",
    "        \n",
    "    #make the plot\n",
    "    plt.plot(R0, percent, \"ob\")\n",
    "    #graph the actual probability of outbreak with no mutation and no recurrent spillover\n",
    "    #####################################################################################\n",
    "    # From Linda's talk:\n",
    "    #                            0 if R_0 < 1\n",
    "    #                            1-1/R_0 = 1-gamma/beta if R_0 > 1\n",
    "    #####################################################################################\n",
    "    plt.plot(R0, np.piecewise(R0, [R0<1, R0>=1], [0, lambda R0: 1-1/R0]), \"r\", label='probability without mutation')\n",
    "    plt.title('alpha = {}, mu1 = mu2 = {}'.format(alpha, mu))\n",
    "    plt.xlabel(\"R_0\"); plt.ylabel(\"p\")\n",
    "    plt.xlim(R0_min, R0_max)\n",
    "    plt.legend()\n",
    "    plt.show()"
   ]
  },
  {
   "cell_type": "code",
   "execution_count": 13,
   "metadata": {},
   "outputs": [
    {
     "data": {
      "image/png": "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\n",
      "text/plain": [
       "<Figure size 432x288 with 1 Axes>"
      ]
     },
     "metadata": {
      "needs_background": "light"
     },
     "output_type": "display_data"
    },
    {
     "name": "stdout",
     "output_type": "stream",
     "text": [
      "CPU times: user 1min 27s, sys: 821 ms, total: 1min 28s\n",
      "Wall time: 1min 30s\n"
     ]
    }
   ],
   "source": [
    "%%time \n",
    "\n",
    "#########################\n",
    "# SANITY CHECK 2 \n",
    "# When there is no mutation, and no spillover, check that our simulation agrees with known results.\n",
    "#########################\n",
    "\n",
    "recurrent_prob_plot(alpha=0, mu=0)"
   ]
  },
  {
   "cell_type": "code",
   "execution_count": 14,
   "metadata": {},
   "outputs": [
    {
     "data": {
      "image/png": "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\n",
      "text/plain": [
       "<Figure size 432x288 with 1 Axes>"
      ]
     },
     "metadata": {
      "needs_background": "light"
     },
     "output_type": "display_data"
    },
    {
     "name": "stdout",
     "output_type": "stream",
     "text": [
      "CPU times: user 1min 47s, sys: 1.05 s, total: 1min 48s\n",
      "Wall time: 1min 53s\n"
     ]
    }
   ],
   "source": [
    "%%time\n",
    "recurrent_prob_plot(alpha=0.001, mu=0)"
   ]
  },
  {
   "cell_type": "code",
   "execution_count": 15,
   "metadata": {},
   "outputs": [
    {
     "data": {
      "image/png": "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\n",
      "text/plain": [
       "<Figure size 432x288 with 1 Axes>"
      ]
     },
     "metadata": {
      "needs_background": "light"
     },
     "output_type": "display_data"
    },
    {
     "name": "stdout",
     "output_type": "stream",
     "text": [
      "CPU times: user 1min 48s, sys: 1.04 s, total: 1min 49s\n",
      "Wall time: 1min 56s\n"
     ]
    }
   ],
   "source": [
    "%%time\n",
    "recurrent_prob_plot(alpha=0.01, mu=0)"
   ]
  },
  {
   "cell_type": "code",
<<<<<<< Updated upstream
   "execution_count": null,
   "metadata": {},
   "outputs": [],
=======
   "execution_count": 16,
   "metadata": {},
   "outputs": [
    {
     "data": {
      "image/png": "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\n",
      "text/plain": [
       "<Figure size 432x288 with 1 Axes>"
      ]
     },
     "metadata": {
      "needs_background": "light"
     },
     "output_type": "display_data"
    },
    {
     "name": "stdout",
     "output_type": "stream",
     "text": [
      "CPU times: user 2min 38s, sys: 1.53 s, total: 2min 40s\n",
      "Wall time: 2min 59s\n"
     ]
    }
   ],
>>>>>>> Stashed changes
   "source": [
    "%%time\n",
    "recurrent_prob_plot(alpha=0.1, mu=0)"
   ]
  }
 ],
 "metadata": {
  "kernelspec": {
   "display_name": "Python 3",
   "language": "python",
   "name": "python3"
  },
  "language_info": {
   "codemirror_mode": {
    "name": "ipython",
    "version": 3
   },
   "file_extension": ".py",
   "mimetype": "text/x-python",
   "name": "python",
   "nbconvert_exporter": "python",
   "pygments_lexer": "ipython3",
   "version": "3.7.6"
  }
 },
 "nbformat": 4,
 "nbformat_minor": 4
}
