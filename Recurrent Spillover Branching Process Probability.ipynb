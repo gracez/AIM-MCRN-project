{
 "cells": [
  {
   "cell_type": "markdown",
   "metadata": {},
   "source": [
    "Recurrent spillover branching process (infinite population), plots probabilities of outbreak (??)\n",
    "\n",
    "TO DO: clarify what probability of outbreak even means here. \n",
    "In the code, extinction means a time when nobody is infected. Outbreak is when number of infecteds hits a threshold. Probability of outbreak means probability of hitting the latter before the former. Is this a sensible notion for this context??"
   ]
  },
  {
   "cell_type": "code",
   "execution_count": 1,
   "metadata": {},
   "outputs": [],
   "source": [
    "import numpy as np\n",
    "import matplotlib.pyplot as plt"
   ]
  },
  {
   "cell_type": "code",
   "execution_count": 2,
   "metadata": {},
   "outputs": [],
   "source": [
    "from sim import sim"
   ]
  },
  {
   "cell_type": "code",
   "execution_count": 3,
   "metadata": {},
   "outputs": [],
   "source": [
    "################################################\n",
    "# simulates infection WITH recurrent spillover \n",
    "#\n",
    "# this implementation is in \"generation order\" since it calls on the function sim.\n",
    "# furthermore, each entire spillover tree is simulated before moving on to the next tree.\n",
    "# for a \"time order\" implementation, see recurrent_sim_class.\n",
    "#\n",
    "################################################\n",
    "#\n",
    "# input alpha = spillover rate.\n",
    "#\n",
    "# inputs beta_0, gamma_0, mu_1, mu_2 are the same as in the function sim from above\n",
    "#\n",
    "# there are two hidden inputs max_t_ext, t_s, which you should ignore. (do NOT pass in any values for these.)\n",
    "# they are only used implicitly when this function recursively calls itself.\n",
    "#\n",
    "################################################\n",
    "#\n",
    "# returns 1 if outbreak\n",
    "# returns 0 if extinction\n",
    "#\n",
    "################################################\n",
    "#\n",
    "# TO DO: when alpha > 0, there may be the possibility of endemicity. \n",
    "# Right now, this function only terminates at outbreak or extinction. Need to fix this in the future.\n",
    "# See recurrent_sim_class for an implementation which terminates after a certain maximum simulated number of days.\n",
    "#\n",
    "################################################\n",
    "\n",
    "def recurrent_sim(alpha, beta_0, gamma_0, mu_1=0, mu_2=0, max_t_ext=0, t_s=0): \n",
    "    \n",
    "    # hidden input max_t_ext keeps track of maximum extinction time seen so far\n",
    "    # hidden input t_s keeps track of most recent time of spillover\n",
    "    \n",
    "    # simulate tree from a new spillover event\n",
    "    sim_output = sim(beta_0, gamma_0, mu_1, mu_2)\n",
    "\n",
    "    # if it outbreaks, we are done\n",
    "    if sim_output == 1:\n",
    "        \n",
    "        #print(\"\\n\", \"outbreak!\")\n",
    "        return 1\n",
    "    \n",
    "    # otherwise, that tree goes extinct\n",
    "    # but we need to check whether any other spillovers happened in the meantime\n",
    "    else:\n",
    "        \n",
    "        #print(\"max_t_ext updating, = max of \", max_t_ext, \"and\", sim_output[1])\n",
    "        max_t_ext = max(max_t_ext, sim_output[1]) #update max extinction time, if necessary\n",
    "        \n",
    "       #if alpha is 0, no more spillovers ever occur. we are done.\n",
    "        if alpha == 0: \n",
    "            return 0\n",
    "        \n",
    "        #otherwise, generate time of next spillover\n",
    "        dt_s = np.random.exponential(scale=1/alpha) #inter-spillover time\n",
    "        t_s += dt_s #time of next spillover\n",
    "        #print(\"time of spillover is t_s = \", t_s)\n",
    "\n",
    "        # if spillover occurs soon enough, we have to simulate another tree. recurse.\n",
    "        if t_s < max_t_ext: \n",
    "            \n",
    "            #print(\"a spillover occured! Recursing...\")\n",
    "            return recurrent_sim(alpha, beta_0, gamma_0, mu_1, mu_2, max_t_ext, t_s)\n",
    "\n",
    "        # if spillover occurs too late, we are done.\n",
    "        else: \n",
    "            \n",
    "            #print(\"next spillover too late. extinction!\")\n",
    "            return 0"
   ]
  },
  {
   "cell_type": "code",
   "execution_count": 4,
   "metadata": {},
   "outputs": [],
   "source": [
    "##################################################\n",
    "# runs many simulations WITH recurrent spillover #\n",
    "##################################################\n",
    "#\n",
    "# returns the percentage of them that outbreak\n",
    "#\n",
    "##################################################\n",
    "\n",
    "def recurrent_sim_percentage(alpha, beta_0, gamma_0, mu_1 = 0, mu_2 = 0, N_sims=100): \n",
    "    N_outbreaks = 0\n",
    "    for i in range(N_sims):\n",
    "        if recurrent_sim(alpha, beta_0, gamma_0, mu_1, mu_2) == 1: \n",
    "                N_outbreaks += 1\n",
    "    return N_outbreaks/N_sims"
   ]
  },
  {
   "cell_type": "code",
   "execution_count": 5,
   "metadata": {},
   "outputs": [
    {
     "data": {
      "text/plain": [
       "0"
      ]
     },
     "execution_count": 5,
     "metadata": {},
     "output_type": "execute_result"
    }
   ],
   "source": [
    "# run a single simulation\n",
    "\n",
    "#parameters\n",
    "alpha = 0.1\n",
    "beta_0 = 0.09\n",
    "gamma_0 = 0.1\n",
    "\n",
    "recurrent_sim(alpha, beta_0, gamma_0)"
   ]
  },
  {
   "cell_type": "code",
   "execution_count": 6,
   "metadata": {},
   "outputs": [
    {
     "name": "stdout",
     "output_type": "stream",
     "text": [
      "CPU times: user 2.2 s, sys: 28.1 ms, total: 2.22 s\n",
      "Wall time: 2.74 s\n"
     ]
    },
    {
     "data": {
      "text/plain": [
       "0.899"
      ]
     },
     "execution_count": 6,
     "metadata": {},
     "output_type": "execute_result"
    }
   ],
   "source": [
    "%%time\n",
    "# run a bulk simulation\n",
    "\n",
    "#parameters\n",
    "alpha = 0.01\n",
    "beta_0 = 0.09\n",
    "gamma_0 = 0.01\n",
    "mu_1=0.001\n",
    "mu_1=0.001\n",
    "\n",
    "recurrent_sim_percentage(alpha, beta_0, gamma_0, mu_1, mu_1, N_sims=1000)"
   ]
  },
  {
   "cell_type": "code",
   "execution_count": 7,
   "metadata": {},
   "outputs": [],
   "source": [
    "###########################################################################\n",
    "# for a fixed mu and alpha, plots the probability of outbreak against R_0 #\n",
    "###########################################################################\n",
    "#\n",
    "# input alpha\n",
    "# input mu = mu_1 = mu_2\n",
    "#\n",
    "# optional inputs R0_min, R0_max give range of R_0 to plot over.\n",
    "# optional input N_points gives number of points to plot.\n",
    "# optional inputs N_sims gives number of simulations to run per point.\n",
    "#\n",
    "##########################################################################\n",
    "\n",
    "def recurrent_prob_plot(alpha, mu, R0_min=0.001, R0_max=2.5, N_points = 75, N_sims=750):\n",
    "    \n",
    "    # Take some evenly spaced R_0 values\n",
    "    # Note that it does matter what beta and gamma are, even if they give the same R_0. \n",
    "    # But here we're just fixing gamma to be 0.1\n",
    "    # TO DO later: explore other choices.\n",
    "    beta_range = np.linspace(R0_min/10, R0_max/10, N_points); gamma = 0.1\n",
    "    \n",
    "    # initialize arrays to be plotted\n",
    "    R0 = []; percent = []\n",
    "\n",
    "    #simulate percentages of outbreak\n",
    "    for beta in beta_range:\n",
    "        R0 = np.append(R0, beta/gamma)\n",
    "        percent = np.append(percent, recurrent_sim_percentage(alpha, beta, gamma, mu, mu, N_sims))\n",
    "        \n",
    "    #make the plot\n",
    "    plt.plot(R0, percent, \"ob\")\n",
    "    #graph the actual probability of outbreak with no mutation and no recurrent spillover\n",
    "    #####################################################################################\n",
    "    # From Linda's talk:\n",
    "    #                            0 if R_0 < 1\n",
    "    #                            1-1/R_0 = 1-gamma/beta if R_0 > 1\n",
    "    #####################################################################################\n",
    "    plt.plot(R0, np.piecewise(R0, [R0<1, R0>=1], [0, lambda R0: 1-1/R0]), \"r\", label='probability without mutation')\n",
    "    plt.title('alpha = {}, mu1 = mu2 = {}'.format(alpha, mu))\n",
    "    plt.xlabel(\"R_0\"); plt.ylabel(\"p\")\n",
    "    plt.xlim(R0_min, R0_max)\n",
    "    plt.legend()\n",
    "    plt.show()"
   ]
  },
  {
   "cell_type": "code",
   "execution_count": null,
   "metadata": {},
   "outputs": [],
   "source": [
    "%%time \n",
    "\n",
    "#########################\n",
    "# SANITY CHECK 2 \n",
    "# When there is no mutation, and no spillover, check that our simulation agrees with known results.\n",
    "#########################\n",
    "\n",
    "recurrent_prob_plot(alpha=0, mu=0, R0_max=5)"
   ]
  },
  {
   "cell_type": "code",
   "execution_count": null,
   "metadata": {},
   "outputs": [],
   "source": [
    "%%time\n",
    "recurrent_prob_plot(alpha=0.001, mu=0, R0_max=5)"
   ]
  },
  {
   "cell_type": "code",
   "execution_count": null,
   "metadata": {},
   "outputs": [],
   "source": [
    "%%time\n",
    "recurrent_prob_plot(alpha=0.01, mu=0, R0_max=5)"
   ]
  },
  {
   "cell_type": "code",
   "execution_count": null,
   "metadata": {
    "scrolled": true
   },
   "outputs": [],
   "source": [
    "%%time\n",
    "recurrent_prob_plot(alpha=0.1, mu=0, R0_max=5)"
   ]
  },
  {
   "cell_type": "code",
   "execution_count": null,
   "metadata": {},
   "outputs": [],
   "source": [
    "%%time\n",
    "recurrent_prob_plot(alpha=1, mu=0, R0_max=5)"
   ]
  }
 ],
 "metadata": {
  "kernelspec": {
   "display_name": "Python 3",
   "language": "python",
   "name": "python3"
  },
  "language_info": {
   "codemirror_mode": {
    "name": "ipython",
    "version": 3
   },
   "file_extension": ".py",
   "mimetype": "text/x-python",
   "name": "python",
   "nbconvert_exporter": "python",
   "pygments_lexer": "ipython3",
   "version": "3.7.6"
  }
 },
 "nbformat": 4,
 "nbformat_minor": 4
}
