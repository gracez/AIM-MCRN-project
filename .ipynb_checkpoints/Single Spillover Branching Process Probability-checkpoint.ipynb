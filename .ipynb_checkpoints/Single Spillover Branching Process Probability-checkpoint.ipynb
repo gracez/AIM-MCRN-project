{
 "cells": [
  {
   "cell_type": "markdown",
   "metadata": {},
   "source": [
    "Single spillover (non-recurrent) branching process (infinite population), plots probabilities"
   ]
  },
  {
   "cell_type": "code",
   "execution_count": 1,
   "metadata": {},
   "outputs": [],
   "source": [
    "import numpy as np\n",
    "import matplotlib.pyplot as plt"
   ]
  },
  {
   "cell_type": "code",
   "execution_count": 2,
   "metadata": {},
   "outputs": [],
   "source": [
    "###################################################\n",
    "# simulates infection WITHOUT recurrent spillover \n",
    "# allows both gamma and beta to mutate            \n",
    "#\n",
    "# note: this implementation branches people in \"generation order\" instead of in \"time order\"\n",
    "# (faster to run, and still gives the same result in the limit as outbreak_thresh -> infinity)\n",
    "# for an implementation done in time order, see the function sim_class\n",
    "#\n",
    "# also note that if the infection goes extinct the time of extinction is well-defined, and either implementation computes it correctly.\n",
    "###################################################\n",
    "#\n",
    "# input beta_0 is transmission rate of the initial case.\n",
    "# input gamma_0 is recovery rate of the initial case. \n",
    "#\n",
    "# optional input mu_1 represents mutation rate for beta. If unspecified, defaults to 0.\n",
    "# optional input mu_2 represents mutation rate for gamma. If unspecified, defaults to 0.\n",
    "#\n",
    "###################################################\n",
    "#\n",
    "# returns 0, t_ext if extinction, where t_ext is time of extinction. \n",
    "# returns 1 if outbreak\n",
    "#\n",
    "###################################################\n",
    "\n",
    "def sim(beta_0, gamma_0, mu_1=0, mu_2=0):\n",
    "    \n",
    "    outbreak_thresh = 100 #call it an outbreak if this many people are infected\n",
    "    \n",
    "    t = 0\n",
    "    \n",
    "    #store active cases as an array of triples\n",
    "    #each triple looks like [beta, gamma, time of infection] and represents one infected person\n",
    "    infecteds=[[beta_0, gamma_0, t]]\n",
    "    \n",
    "    N_infected = len(infecteds) #keep track of number of infected people\n",
    "    \n",
    "    t_ext = None #time of extinction, will fill this value and return it if the infection goes extinct\n",
    "    \n",
    "    while True: \n",
    "        \n",
    "        #print(\"\\n\", \"infecteds now = \", infecteds)\n",
    "        \n",
    "        #keeps track of indices of recovered people\n",
    "        #will delete them from array of infecteds at the end of each while loop iteration\n",
    "        recovereds = []\n",
    "        \n",
    "        for i, person in enumerate(infecteds): #go through and branch each person in array of infecteds\n",
    "\n",
    "            #print(\"\\n\", \"branching person\", i)\n",
    "            \n",
    "            [beta, gamma, t] = person\n",
    "            \n",
    "            while True:\n",
    "                                \n",
    "                #interevent time\n",
    "                #note this is interevent time for ONE person, NOT for entire population\n",
    "                dt = np.random.exponential(scale = 1/(beta + gamma))\n",
    "                new_t = t + dt #time of new event\n",
    "                \n",
    "                #pick which new event happens, transmission or recovery         \n",
    "                ev = np.random.rand() #draw number from uniform distribution over [0, 1)\n",
    "                prob_trans = beta / (beta+gamma)\n",
    "\n",
    "                if (ev < prob_trans): #transmission\n",
    "                    \n",
    "                    #print(\"person\", i, \" is transmitting\")\n",
    "                    \n",
    "                    #pick beta and gamma for new case\n",
    "                    #mutation is a number drawn from normal distribution with std dev mu_1 or mu_2\n",
    "                    #don't allow negative beta.\n",
    "                    #don't allow gamma to be less than a small value, the natural death rate.\n",
    "                    mut1 = np.random.normal(loc=0.0, scale=mu_1)\n",
    "                    new_beta = max(0, beta + mut1)\n",
    "                    mut2 = np.random.normal(loc=0.0, scale=mu_2)              \n",
    "                    nat_death = 0.00002366575 #taken from CDC: https://www.cdc.gov/nchs/fastats/deaths.htm & scaled to be daily rate instead of yearly\n",
    "                    new_gamma = max(nat_death, gamma + mut2)\n",
    "                    \n",
    "                    #append new person to array of infecteds\n",
    "                    infecteds = np.append(infecteds, [[new_beta, new_gamma, new_t]], axis=0)\n",
    "                    N_infected += 1\n",
    "                    \n",
    "                    if N_infected >= outbreak_thresh:\n",
    "                        #print(\"\\n\", \"outbreak!\")\n",
    "                        return 1\n",
    "\n",
    "                    #print(\"new infection: \", [new_beta, new_gamma, new_t])\n",
    "\n",
    "                else: #recovery\n",
    "                    \n",
    "                    #print(\"person\", i, \" recovers\") \n",
    "                    \n",
    "                    N_infected -= 1\n",
    " \n",
    "                    if N_infected == 0:\n",
    "                        #print(\"\\n\", \"extinction\")\n",
    "                        return 0, new_t\n",
    "                    \n",
    "                    #mark index of this recovered person, in order to delete them later\n",
    "                    #(we don't delete yet, because that will mess up the indexing of the for loop)\n",
    "                    recovereds.append(i)\n",
    "                    break #skip to next person\n",
    "\n",
    "        #after each time we complete a round of branching everybody:\n",
    "        #update the array of infecteds by deleting recoveries\n",
    "        infecteds = np.delete(infecteds, recovereds, axis=0)"
   ]
  },
  {
   "cell_type": "code",
   "execution_count": 3,
   "metadata": {},
   "outputs": [],
   "source": [
    "#####################################################\n",
    "# runs many simulations WITHOUT recurrent spillover #\n",
    "#####################################################\n",
    "#\n",
    "# optional input N_sims is number of simulations to run.\n",
    "#\n",
    "# returns the percentage of those simulations that outbreak\n",
    "#\n",
    "#########################\n",
    "\n",
    "def sim_percentage(beta_0, gamma_0, mu_1=0, mu_2=0, N_sims=1000):   \n",
    "    N_outbreaks = 0  \n",
    "    for i in range(N_sims):\n",
    "        if sim(beta_0, gamma_0, mu_1, mu_2) == 1: N_outbreaks += 1\n",
    "    return N_outbreaks/N_sims"
   ]
  },
  {
   "cell_type": "code",
   "execution_count": 4,
   "metadata": {},
   "outputs": [
    {
     "data": {
      "text/plain": [
       "(0, 9.554513192775026)"
      ]
     },
     "execution_count": 4,
     "metadata": {},
     "output_type": "execute_result"
    }
   ],
   "source": [
    "# run a single simulation\n",
    "\n",
    "#parameters\n",
    "beta_0 = 0.09\n",
    "gamma_0 = 0.1\n",
    "mu_1 = 0.01\n",
    "mu_2 = 0.01\n",
    "\n",
    "sim(beta_0, gamma_0, mu_1, mu_2)"
   ]
  },
  {
   "cell_type": "code",
   "execution_count": 5,
   "metadata": {},
   "outputs": [
    {
     "data": {
      "text/plain": [
       "0.0"
      ]
     },
     "execution_count": 5,
     "metadata": {},
     "output_type": "execute_result"
    }
   ],
   "source": [
    "# run a bulk simulation\n",
    "\n",
    "#parameters\n",
    "beta_0 = 0.09\n",
    "gamma_0 = 0.1\n",
    "mu_1=0.0001\n",
    "mu_2=0.0001\n",
    "\n",
    "sim_percentage(beta_0, gamma_0, mu_1, mu_2, N_sims=10000)"
   ]
  },
  {
   "cell_type": "code",
   "execution_count": 6,
   "metadata": {},
   "outputs": [],
   "source": [
    "#################################################################\n",
    "# for a fixed mu, plots the probability of outbreak against R_0 #\n",
    "#################################################################\n",
    "#\n",
    "# input mu = mu_1 = mu_2\n",
    "#\n",
    "# optional inputs R0_min, R0_max give range of R_0 to plot over.\n",
    "# optional input N_points gives number of points to plot.\n",
    "# optional inputs N_sims gives number of simulations to run per point.\n",
    "#\n",
    "################################################################\n",
    "\n",
    "def prob_plot(mu, R0_min=0.001, R0_max=2.5, N_points = 75, N_sims=750):\n",
    "    \n",
    "    # Take some evenly spaced R_0 values\n",
    "    # Note that it does matter what beta and gamma are, even if they give the same R_0. \n",
    "    # But here we're just fixing gamma to be 0.1\n",
    "    # TO DO later: explore other choices.\n",
    "    beta_range = np.linspace(R0_min/10, R0_max/10, N_points); gamma = 0.1\n",
    "    \n",
    "    # initialize arrays to be plotted\n",
    "    R0 = []; percent = []\n",
    "\n",
    "    #simulate percentages of outbreak\n",
    "    for beta in beta_range:\n",
    "        R0 = np.append(R0, beta/gamma)\n",
    "        percent = np.append(percent, sim_percentage(beta, gamma, mu, mu, N_sims))\n",
    "        \n",
    "    #make the plot\n",
    "    plt.plot(R0, percent, \"ob\")\n",
    "    #graph the actual probability of outbreak with no mutation\n",
    "    #################################################################\n",
    "    # From Linda's talk: the actual probability of outbreak with no mutation is:\n",
    "    #                            0 if R_0 < 1\n",
    "    #                            1-1/R_0 = 1-gamma/beta if R_0 > 1\n",
    "    #################################################################\n",
    "    plt.plot(R0, np.piecewise(R0, [R0<1, R0>=1], [0, lambda R0: 1-1/R0]), \"r\", label='probability without mutation')\n",
    "    plt.title('mu1 = mu2 = {}'.format(mu))\n",
    "    plt.xlabel(\"R_0\"); plt.ylabel(\"p\")\n",
    "    plt.xlim(R0_min, R0_max)\n",
    "    plt.legend()\n",
    "    plt.show()"
   ]
  },
  {
   "cell_type": "code",
   "execution_count": 7,
   "metadata": {},
   "outputs": [
    {
     "data": {
      "image/png": "[encoded data removed]",
      "text/plain": [
       "<Figure size 432x288 with 1 Axes>"
      ]
     },
     "metadata": {
      "needs_background": "light"
     },
     "output_type": "display_data"
    },
    {
     "name": "stdout",
     "output_type": "stream",
     "text": [
      "CPU times: user 1min 34s, sys: 833 ms, total: 1min 34s\n",
      "Wall time: 1min 41s\n"
     ]
    }
   ],
   "source": [
    "%%time\n",
    "\n",
    "# SANITY CHECK\n",
    "# When there is no mutation, check that our simulation agrees with the correct probability\n",
    "\n",
    "prob_plot(mu=0)"
   ]
  },
  {
   "cell_type": "markdown",
   "metadata": {},
   "source": [
    "Simulate some other values of mu. Note the scale changes on the axes"
   ]
  },
  {
   "cell_type": "code",
   "execution_count": null,
   "metadata": {},
   "outputs": [],
   "source": [
    "#zoom in\n",
    "prob_plot(mu=0.0001, R0_min=0.8, R0_max=1.2, N_points = 75, N_sims=2000)"
   ]
  },
  {
   "cell_type": "code",
   "execution_count": null,
   "metadata": {},
   "outputs": [],
   "source": [
    "prob_plot(mu=0.001, R0_min=0.8, R0_max=1.2, N_points = 75, N_sims=2000)"
   ]
  },
  {
   "cell_type": "code",
   "execution_count": null,
   "metadata": {},
   "outputs": [],
   "source": [
    "#zoom back out\n",
    "prob_plot(mu=0.001)"
   ]
  },
  {
   "cell_type": "code",
   "execution_count": null,
   "metadata": {},
   "outputs": [],
   "source": [
    "prob_plot(mu=0.01)"
   ]
  },
  {
   "cell_type": "code",
   "execution_count": null,
   "metadata": {},
   "outputs": [],
   "source": [
    "prob_plot(mu=0.1)"
   ]
  },
  {
   "cell_type": "code",
   "execution_count": null,
   "metadata": {},
   "outputs": [],
   "source": [
    "#zoom out more\n",
    "prob_plot(mu=0.1, R0_max=10)"
   ]
  },
  {
   "cell_type": "code",
   "execution_count": null,
   "metadata": {},
   "outputs": [],
   "source": [
    "prob_plot(mu=0.5, R0_max=10)"
   ]
  },
  {
   "cell_type": "code",
   "execution_count": null,
   "metadata": {},
   "outputs": [],
   "source": [
    "prob_plot(mu=1, R0_max=30)"
   ]
  },
  {
   "cell_type": "markdown",
   "metadata": {},
   "source": [
    "The next part generates some more graphs and visualizations."
   ]
  },
  {
   "cell_type": "code",
   "execution_count": null,
   "metadata": {},
   "outputs": [],
   "source": []
  },
  {
   "cell_type": "code",
   "execution_count": null,
   "metadata": {},
   "outputs": [],
   "source": []
  },
  {
   "cell_type": "code",
   "execution_count": null,
   "metadata": {},
   "outputs": [],
   "source": []
  }
 ],
 "metadata": {
  "kernelspec": {
   "display_name": "Python 3",
   "language": "python",
   "name": "python3"
  },
  "language_info": {
   "codemirror_mode": {
    "name": "ipython",
    "version": 3
   },
   "file_extension": ".py",
   "mimetype": "text/x-python",
   "name": "python",
   "nbconvert_exporter": "python",
   "pygments_lexer": "ipython3",
   "version": "3.7.6"
  }
 },
 "nbformat": 4,
 "nbformat_minor": 4
}
